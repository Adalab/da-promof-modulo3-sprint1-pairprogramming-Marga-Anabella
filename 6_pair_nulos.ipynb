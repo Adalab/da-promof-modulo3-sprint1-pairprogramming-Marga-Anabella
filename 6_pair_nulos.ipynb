{
 "cells": [
  {
   "cell_type": "code",
   "execution_count": 1,
   "metadata": {},
   "outputs": [],
   "source": [
    "\n",
    "import pandas as pd\n",
    "import numpy as np\n",
    "\n",
    "\n",
    "from sklearn.impute import SimpleImputer\n",
    "from sklearn.experimental import enable_iterative_imputer\n",
    "from sklearn.impute import IterativeImputer\n",
    "from sklearn.impute import KNNImputer\n",
    "\n",
    "\n",
    "import seaborn as sns\n",
    "import matplotlib.pyplot as plt\n",
    "\n",
    "pd.set_option('display.max_columns', None) # para poder visualizar todas las columnas de los DataFrames"
   ]
  },
  {
   "cell_type": "code",
   "execution_count": 2,
   "metadata": {},
   "outputs": [],
   "source": [
    "df_pair= pd.read_csv('fichero_pair_30112023.csv', index_col=0)"
   ]
  },
  {
   "cell_type": "markdown",
   "metadata": {},
   "source": [
    "# Ejercicios gestión de nulos\n",
    "En este pair programming usaremos el csv que generamos en el pair programming de ayer. El objetivo del ejercicio es identificar las columnas que contienen valores nulos y aplicar un proceso de imputación para manejarlos de manera adecuada.\n",
    "\n",
    "Instrucciones:\n",
    "- Identificación de Valores Nulos: Identifica todas las columnas que contengan valores nulos en el DataFrame.\n",
    "- Selección de Método de Imputación: Discute en tu compañera cuál sería la mejor estrategia para manejar los valores nulos en cada una de las columnas identificadas en el paso anterior.\n",
    "- Imputación de Valores Nulos: Implementa el método de imputación seleccionado en el paso 2 para llenar los valores nulos en las columnas.\n",
    "- Informe: Añade al final de un jupyter una explicación breve que describa las columnas que tenían valores nulos, cómo decidiste imputarlos y cualquier observación adicional que consideres importante sobre el proceso de limpieza de datos.\n",
    "- Nota: Puedes utilizar cualquier método o estrategia de imputación que consideres adecuado para los datos y discutir las ventajas y desventajas de tu elección en el informe."
   ]
  },
  {
   "cell_type": "code",
   "execution_count": 3,
   "metadata": {},
   "outputs": [
    {
     "data": {
      "text/html": [
       "<div>\n",
       "<style scoped>\n",
       "    .dataframe tbody tr th:only-of-type {\n",
       "        vertical-align: middle;\n",
       "    }\n",
       "\n",
       "    .dataframe tbody tr th {\n",
       "        vertical-align: top;\n",
       "    }\n",
       "\n",
       "    .dataframe thead th {\n",
       "        text-align: right;\n",
       "    }\n",
       "</style>\n",
       "<table border=\"1\" class=\"dataframe\">\n",
       "  <thead>\n",
       "    <tr style=\"text-align: right;\">\n",
       "      <th></th>\n",
       "      <th>country</th>\n",
       "      <th>density</th>\n",
       "      <th>abbreviation</th>\n",
       "      <th>agriculturalland</th>\n",
       "      <th>landarea</th>\n",
       "      <th>armedforcessize</th>\n",
       "      <th>birthrate</th>\n",
       "      <th>callingcode</th>\n",
       "      <th>capital/majorcity</th>\n",
       "      <th>co2-emissions</th>\n",
       "      <th>cpi</th>\n",
       "      <th>cpichange</th>\n",
       "      <th>currency-code</th>\n",
       "      <th>fertilityrate</th>\n",
       "      <th>forestedarea</th>\n",
       "      <th>gasolineprice</th>\n",
       "      <th>gdp</th>\n",
       "      <th>grossprimaryeducationenrollment</th>\n",
       "      <th>grosstertiaryeducationenrollment</th>\n",
       "      <th>infantmortality</th>\n",
       "      <th>largestcity</th>\n",
       "      <th>lifeexpectancy</th>\n",
       "      <th>maternalmortalityratio</th>\n",
       "      <th>minimumwage</th>\n",
       "      <th>officiallanguage</th>\n",
       "      <th>outofpockethealthexpenditure</th>\n",
       "      <th>physiciansperthousand</th>\n",
       "      <th>population</th>\n",
       "      <th>populationlaborforceparticipation</th>\n",
       "      <th>taxrevenue</th>\n",
       "      <th>totaltaxrate</th>\n",
       "      <th>unemploymentrate</th>\n",
       "      <th>urban_population</th>\n",
       "      <th>lattitude</th>\n",
       "      <th>longitude</th>\n",
       "      <th>continente</th>\n",
       "    </tr>\n",
       "  </thead>\n",
       "  <tbody>\n",
       "    <tr>\n",
       "      <th>0</th>\n",
       "      <td>Afghanistan</td>\n",
       "      <td>60.0</td>\n",
       "      <td>AF</td>\n",
       "      <td>58.1</td>\n",
       "      <td>652230.0</td>\n",
       "      <td>323000.0</td>\n",
       "      <td>32.49</td>\n",
       "      <td>93.0</td>\n",
       "      <td>Kabul</td>\n",
       "      <td>8672.0</td>\n",
       "      <td>149.9</td>\n",
       "      <td>2.3</td>\n",
       "      <td>AFN</td>\n",
       "      <td>4.47</td>\n",
       "      <td>2.1</td>\n",
       "      <td>0.7</td>\n",
       "      <td>1.910135e+10</td>\n",
       "      <td>104.0</td>\n",
       "      <td>9.7</td>\n",
       "      <td>47.9</td>\n",
       "      <td>Kabul</td>\n",
       "      <td>64.5</td>\n",
       "      <td>638.0</td>\n",
       "      <td>0.43</td>\n",
       "      <td>Pashto</td>\n",
       "      <td>78.4</td>\n",
       "      <td>0.28</td>\n",
       "      <td>38041754.0</td>\n",
       "      <td>48.9</td>\n",
       "      <td>9.3</td>\n",
       "      <td>71.4</td>\n",
       "      <td>11.12</td>\n",
       "      <td>9797273.0</td>\n",
       "      <td>33.93911</td>\n",
       "      <td>67.709953</td>\n",
       "      <td>Asia</td>\n",
       "    </tr>\n",
       "  </tbody>\n",
       "</table>\n",
       "</div>"
      ],
      "text/plain": [
       "       country  density abbreviation  agriculturalland  landarea  \\\n",
       "0  Afghanistan     60.0           AF              58.1  652230.0   \n",
       "\n",
       "   armedforcessize  birthrate  callingcode capital/majorcity  co2-emissions  \\\n",
       "0         323000.0      32.49         93.0             Kabul         8672.0   \n",
       "\n",
       "     cpi  cpichange currency-code  fertilityrate  forestedarea  gasolineprice  \\\n",
       "0  149.9        2.3           AFN           4.47           2.1            0.7   \n",
       "\n",
       "            gdp  grossprimaryeducationenrollment  \\\n",
       "0  1.910135e+10                            104.0   \n",
       "\n",
       "   grosstertiaryeducationenrollment  infantmortality largestcity  \\\n",
       "0                               9.7             47.9       Kabul   \n",
       "\n",
       "   lifeexpectancy  maternalmortalityratio  minimumwage officiallanguage  \\\n",
       "0            64.5                   638.0         0.43           Pashto   \n",
       "\n",
       "   outofpockethealthexpenditure  physiciansperthousand  population  \\\n",
       "0                          78.4                   0.28  38041754.0   \n",
       "\n",
       "   populationlaborforceparticipation  taxrevenue  totaltaxrate  \\\n",
       "0                               48.9         9.3          71.4   \n",
       "\n",
       "   unemploymentrate  urban_population  lattitude  longitude continente  \n",
       "0             11.12         9797273.0   33.93911  67.709953       Asia  "
      ]
     },
     "execution_count": 3,
     "metadata": {},
     "output_type": "execute_result"
    }
   ],
   "source": [
    "df_pair.head(1)"
   ]
  },
  {
   "cell_type": "code",
   "execution_count": 4,
   "metadata": {},
   "outputs": [
    {
     "data": {
      "text/plain": [
       "Index(['country', 'density', 'abbreviation', 'agriculturalland', 'landarea',\n",
       "       'armedforcessize', 'birthrate', 'callingcode', 'capital/majorcity',\n",
       "       'co2-emissions', 'cpi', 'cpichange', 'currency-code', 'fertilityrate',\n",
       "       'forestedarea', 'gasolineprice', 'gdp',\n",
       "       'grossprimaryeducationenrollment', 'grosstertiaryeducationenrollment',\n",
       "       'infantmortality', 'largestcity', 'lifeexpectancy',\n",
       "       'maternalmortalityratio', 'minimumwage', 'officiallanguage',\n",
       "       'outofpockethealthexpenditure', 'physiciansperthousand', 'population',\n",
       "       'populationlaborforceparticipation', 'taxrevenue', 'totaltaxrate',\n",
       "       'unemploymentrate', 'urban_population', 'lattitude', 'longitude',\n",
       "       'continente'],\n",
       "      dtype='object')"
      ]
     },
     "execution_count": 4,
     "metadata": {},
     "output_type": "execute_result"
    }
   ],
   "source": [
    "df_pair.columns"
   ]
  },
  {
   "cell_type": "code",
   "execution_count": 5,
   "metadata": {},
   "outputs": [
    {
     "name": "stdout",
     "output_type": "stream",
     "text": [
      "<class 'pandas.core.frame.DataFrame'>\n",
      "Index: 195 entries, 0 to 194\n",
      "Data columns (total 36 columns):\n",
      " #   Column                             Non-Null Count  Dtype  \n",
      "---  ------                             --------------  -----  \n",
      " 0   country                            195 non-null    object \n",
      " 1   density                            195 non-null    float64\n",
      " 2   abbreviation                       188 non-null    object \n",
      " 3   agriculturalland                   188 non-null    float64\n",
      " 4   landarea                           194 non-null    float64\n",
      " 5   armedforcessize                    171 non-null    float64\n",
      " 6   birthrate                          189 non-null    float64\n",
      " 7   callingcode                        194 non-null    float64\n",
      " 8   capital/majorcity                  192 non-null    object \n",
      " 9   co2-emissions                      188 non-null    float64\n",
      " 10  cpi                                178 non-null    float64\n",
      " 11  cpichange                          179 non-null    float64\n",
      " 12  currency-code                      180 non-null    object \n",
      " 13  fertilityrate                      188 non-null    float64\n",
      " 14  forestedarea                       188 non-null    float64\n",
      " 15  gasolineprice                      175 non-null    float64\n",
      " 16  gdp                                193 non-null    float64\n",
      " 17  grossprimaryeducationenrollment    188 non-null    float64\n",
      " 18  grosstertiaryeducationenrollment   183 non-null    float64\n",
      " 19  infantmortality                    189 non-null    float64\n",
      " 20  largestcity                        189 non-null    object \n",
      " 21  lifeexpectancy                     187 non-null    float64\n",
      " 22  maternalmortalityratio             181 non-null    float64\n",
      " 23  minimumwage                        150 non-null    float64\n",
      " 24  officiallanguage                   190 non-null    object \n",
      " 25  outofpockethealthexpenditure       188 non-null    float64\n",
      " 26  physiciansperthousand              188 non-null    float64\n",
      " 27  population                         194 non-null    float64\n",
      " 28  populationlaborforceparticipation  176 non-null    float64\n",
      " 29  taxrevenue                         169 non-null    float64\n",
      " 30  totaltaxrate                       183 non-null    float64\n",
      " 31  unemploymentrate                   176 non-null    float64\n",
      " 32  urban_population                   190 non-null    float64\n",
      " 33  lattitude                          194 non-null    float64\n",
      " 34  longitude                          194 non-null    float64\n",
      " 35  continente                         195 non-null    object \n",
      "dtypes: float64(29), object(7)\n",
      "memory usage: 56.4+ KB\n"
     ]
    }
   ],
   "source": [
    "df_pair.info()"
   ]
  },
  {
   "cell_type": "code",
   "execution_count": 6,
   "metadata": {},
   "outputs": [
    {
     "data": {
      "text/plain": [
       "country                               0.000000\n",
       "density                               0.000000\n",
       "abbreviation                          3.589744\n",
       "agriculturalland                      3.589744\n",
       "landarea                              0.512821\n",
       "armedforcessize                      12.307692\n",
       "birthrate                             3.076923\n",
       "callingcode                           0.512821\n",
       "capital/majorcity                     1.538462\n",
       "co2-emissions                         3.589744\n",
       "cpi                                   8.717949\n",
       "cpichange                             8.205128\n",
       "currency-code                         7.692308\n",
       "fertilityrate                         3.589744\n",
       "forestedarea                          3.589744\n",
       "gasolineprice                        10.256410\n",
       "gdp                                   1.025641\n",
       "grossprimaryeducationenrollment       3.589744\n",
       "grosstertiaryeducationenrollment      6.153846\n",
       "infantmortality                       3.076923\n",
       "largestcity                           3.076923\n",
       "lifeexpectancy                        4.102564\n",
       "maternalmortalityratio                7.179487\n",
       "minimumwage                          23.076923\n",
       "officiallanguage                      2.564103\n",
       "outofpockethealthexpenditure          3.589744\n",
       "physiciansperthousand                 3.589744\n",
       "population                            0.512821\n",
       "populationlaborforceparticipation     9.743590\n",
       "taxrevenue                           13.333333\n",
       "totaltaxrate                          6.153846\n",
       "unemploymentrate                      9.743590\n",
       "urban_population                      2.564103\n",
       "lattitude                             0.512821\n",
       "longitude                             0.512821\n",
       "continente                            0.000000\n",
       "dtype: float64"
      ]
     },
     "execution_count": 6,
     "metadata": {},
     "output_type": "execute_result"
    }
   ],
   "source": [
    "\n",
    "(df_pair.isnull().sum() / df_pair.shape[0]) * 100"
   ]
  },
  {
   "cell_type": "code",
   "execution_count": 7,
   "metadata": {},
   "outputs": [
    {
     "data": {
      "text/html": [
       "<div>\n",
       "<style scoped>\n",
       "    .dataframe tbody tr th:only-of-type {\n",
       "        vertical-align: middle;\n",
       "    }\n",
       "\n",
       "    .dataframe tbody tr th {\n",
       "        vertical-align: top;\n",
       "    }\n",
       "\n",
       "    .dataframe thead th {\n",
       "        text-align: right;\n",
       "    }\n",
       "</style>\n",
       "<table border=\"1\" class=\"dataframe\">\n",
       "  <thead>\n",
       "    <tr style=\"text-align: right;\">\n",
       "      <th></th>\n",
       "      <th>%_nulos</th>\n",
       "    </tr>\n",
       "  </thead>\n",
       "  <tbody>\n",
       "    <tr>\n",
       "      <th>abbreviation</th>\n",
       "      <td>3.589744</td>\n",
       "    </tr>\n",
       "    <tr>\n",
       "      <th>agriculturalland</th>\n",
       "      <td>3.589744</td>\n",
       "    </tr>\n",
       "    <tr>\n",
       "      <th>landarea</th>\n",
       "      <td>0.512821</td>\n",
       "    </tr>\n",
       "    <tr>\n",
       "      <th>armedforcessize</th>\n",
       "      <td>12.307692</td>\n",
       "    </tr>\n",
       "    <tr>\n",
       "      <th>birthrate</th>\n",
       "      <td>3.076923</td>\n",
       "    </tr>\n",
       "    <tr>\n",
       "      <th>callingcode</th>\n",
       "      <td>0.512821</td>\n",
       "    </tr>\n",
       "    <tr>\n",
       "      <th>capital/majorcity</th>\n",
       "      <td>1.538462</td>\n",
       "    </tr>\n",
       "    <tr>\n",
       "      <th>co2-emissions</th>\n",
       "      <td>3.589744</td>\n",
       "    </tr>\n",
       "    <tr>\n",
       "      <th>cpi</th>\n",
       "      <td>8.717949</td>\n",
       "    </tr>\n",
       "    <tr>\n",
       "      <th>cpichange</th>\n",
       "      <td>8.205128</td>\n",
       "    </tr>\n",
       "    <tr>\n",
       "      <th>currency-code</th>\n",
       "      <td>7.692308</td>\n",
       "    </tr>\n",
       "    <tr>\n",
       "      <th>fertilityrate</th>\n",
       "      <td>3.589744</td>\n",
       "    </tr>\n",
       "    <tr>\n",
       "      <th>forestedarea</th>\n",
       "      <td>3.589744</td>\n",
       "    </tr>\n",
       "    <tr>\n",
       "      <th>gasolineprice</th>\n",
       "      <td>10.256410</td>\n",
       "    </tr>\n",
       "    <tr>\n",
       "      <th>gdp</th>\n",
       "      <td>1.025641</td>\n",
       "    </tr>\n",
       "    <tr>\n",
       "      <th>grossprimaryeducationenrollment</th>\n",
       "      <td>3.589744</td>\n",
       "    </tr>\n",
       "    <tr>\n",
       "      <th>grosstertiaryeducationenrollment</th>\n",
       "      <td>6.153846</td>\n",
       "    </tr>\n",
       "    <tr>\n",
       "      <th>infantmortality</th>\n",
       "      <td>3.076923</td>\n",
       "    </tr>\n",
       "    <tr>\n",
       "      <th>largestcity</th>\n",
       "      <td>3.076923</td>\n",
       "    </tr>\n",
       "    <tr>\n",
       "      <th>lifeexpectancy</th>\n",
       "      <td>4.102564</td>\n",
       "    </tr>\n",
       "    <tr>\n",
       "      <th>maternalmortalityratio</th>\n",
       "      <td>7.179487</td>\n",
       "    </tr>\n",
       "    <tr>\n",
       "      <th>minimumwage</th>\n",
       "      <td>23.076923</td>\n",
       "    </tr>\n",
       "    <tr>\n",
       "      <th>officiallanguage</th>\n",
       "      <td>2.564103</td>\n",
       "    </tr>\n",
       "    <tr>\n",
       "      <th>outofpockethealthexpenditure</th>\n",
       "      <td>3.589744</td>\n",
       "    </tr>\n",
       "    <tr>\n",
       "      <th>physiciansperthousand</th>\n",
       "      <td>3.589744</td>\n",
       "    </tr>\n",
       "    <tr>\n",
       "      <th>population</th>\n",
       "      <td>0.512821</td>\n",
       "    </tr>\n",
       "    <tr>\n",
       "      <th>populationlaborforceparticipation</th>\n",
       "      <td>9.743590</td>\n",
       "    </tr>\n",
       "    <tr>\n",
       "      <th>taxrevenue</th>\n",
       "      <td>13.333333</td>\n",
       "    </tr>\n",
       "    <tr>\n",
       "      <th>totaltaxrate</th>\n",
       "      <td>6.153846</td>\n",
       "    </tr>\n",
       "    <tr>\n",
       "      <th>unemploymentrate</th>\n",
       "      <td>9.743590</td>\n",
       "    </tr>\n",
       "    <tr>\n",
       "      <th>urban_population</th>\n",
       "      <td>2.564103</td>\n",
       "    </tr>\n",
       "    <tr>\n",
       "      <th>lattitude</th>\n",
       "      <td>0.512821</td>\n",
       "    </tr>\n",
       "    <tr>\n",
       "      <th>longitude</th>\n",
       "      <td>0.512821</td>\n",
       "    </tr>\n",
       "  </tbody>\n",
       "</table>\n",
       "</div>"
      ],
      "text/plain": [
       "                                     %_nulos\n",
       "abbreviation                        3.589744\n",
       "agriculturalland                    3.589744\n",
       "landarea                            0.512821\n",
       "armedforcessize                    12.307692\n",
       "birthrate                           3.076923\n",
       "callingcode                         0.512821\n",
       "capital/majorcity                   1.538462\n",
       "co2-emissions                       3.589744\n",
       "cpi                                 8.717949\n",
       "cpichange                           8.205128\n",
       "currency-code                       7.692308\n",
       "fertilityrate                       3.589744\n",
       "forestedarea                        3.589744\n",
       "gasolineprice                      10.256410\n",
       "gdp                                 1.025641\n",
       "grossprimaryeducationenrollment     3.589744\n",
       "grosstertiaryeducationenrollment    6.153846\n",
       "infantmortality                     3.076923\n",
       "largestcity                         3.076923\n",
       "lifeexpectancy                      4.102564\n",
       "maternalmortalityratio              7.179487\n",
       "minimumwage                        23.076923\n",
       "officiallanguage                    2.564103\n",
       "outofpockethealthexpenditure        3.589744\n",
       "physiciansperthousand               3.589744\n",
       "population                          0.512821\n",
       "populationlaborforceparticipation   9.743590\n",
       "taxrevenue                         13.333333\n",
       "totaltaxrate                        6.153846\n",
       "unemploymentrate                    9.743590\n",
       "urban_population                    2.564103\n",
       "lattitude                           0.512821\n",
       "longitude                           0.512821"
      ]
     },
     "execution_count": 7,
     "metadata": {},
     "output_type": "execute_result"
    }
   ],
   "source": [
    "\n",
    "df_nulos = pd.DataFrame((df_pair.isnull().sum() / df_pair.shape[0]) * 100, columns = [\"%_nulos\"])\n",
    "\n",
    "# filtramos el DataFrame para quedarnos solo con aquellas columnas que tengan nulos\n",
    "df_nulos[df_nulos[\"%_nulos\"] > 0]"
   ]
  },
  {
   "cell_type": "markdown",
   "metadata": {},
   "source": [
    "dividimos por categóricas vs numéricas: "
   ]
  },
  {
   "cell_type": "code",
   "execution_count": 8,
   "metadata": {},
   "outputs": [
    {
     "data": {
      "text/plain": [
       "Index(['abbreviation', 'capital/majorcity', 'currency-code', 'largestcity',\n",
       "       'officiallanguage'],\n",
       "      dtype='object')"
      ]
     },
     "execution_count": 8,
     "metadata": {},
     "output_type": "execute_result"
    }
   ],
   "source": [
    "nulos_categoricos = df_pair[df_pair.columns[df_pair.isnull().any()]].select_dtypes(include = \"O\").columns\n",
    "nulos_categoricos\n"
   ]
  },
  {
   "cell_type": "code",
   "execution_count": 9,
   "metadata": {},
   "outputs": [
    {
     "name": "stdout",
     "output_type": "stream",
     "text": [
      "La distribución de las categorías para la columna ABBREVIATION\n"
     ]
    },
    {
     "data": {
      "text/plain": [
       "abbreviation\n",
       "AF    0.005128\n",
       "PY    0.005128\n",
       "NE    0.005128\n",
       "NG    0.005128\n",
       "KP    0.005128\n",
       "        ...   \n",
       "GR    0.005128\n",
       "GD    0.005128\n",
       "GT    0.005128\n",
       "GN    0.005128\n",
       "ZW    0.005128\n",
       "Name: count, Length: 188, dtype: float64"
      ]
     },
     "metadata": {},
     "output_type": "display_data"
    },
    {
     "name": "stdout",
     "output_type": "stream",
     "text": [
      "........................\n",
      "La distribución de las categorías para la columna CAPITAL/MAJORCITY\n"
     ]
    },
    {
     "data": {
      "text/plain": [
       "capital/majorcity\n",
       "Kabul                    0.005128\n",
       "Tirana                   0.005128\n",
       "Wellington               0.005128\n",
       "Managua                  0.005128\n",
       "Niamey                   0.005128\n",
       "                           ...   \n",
       "Athens                   0.005128\n",
       "St. George's, Grenada    0.005128\n",
       "Guatemala City           0.005128\n",
       "Conakry                  0.005128\n",
       "Harare                   0.005128\n",
       "Name: count, Length: 192, dtype: float64"
      ]
     },
     "metadata": {},
     "output_type": "display_data"
    },
    {
     "name": "stdout",
     "output_type": "stream",
     "text": [
      "........................\n",
      "La distribución de las categorías para la columna CURRENCY-CODE\n"
     ]
    },
    {
     "data": {
      "text/plain": [
       "currency-code\n",
       "EUR    0.117949\n",
       "XOF    0.041026\n",
       "XCD    0.030769\n",
       "USD    0.030769\n",
       "XAF    0.025641\n",
       "         ...   \n",
       "GMD    0.005128\n",
       "FJD    0.005128\n",
       "ETB    0.005128\n",
       "ERN    0.005128\n",
       "ZMW    0.005128\n",
       "Name: count, Length: 133, dtype: float64"
      ]
     },
     "metadata": {},
     "output_type": "display_data"
    },
    {
     "name": "stdout",
     "output_type": "stream",
     "text": [
      "........................\n",
      "La distribución de las categorías para la columna LARGESTCITY\n"
     ]
    },
    {
     "data": {
      "text/plain": [
       "largestcity\n",
       "S����                    0.010256\n",
       "Panama City              0.005128\n",
       "Managua                  0.005128\n",
       "Niamey                   0.005128\n",
       "Lagos                    0.005128\n",
       "                           ...   \n",
       "Macedonia                0.005128\n",
       "St. George's, Grenada    0.005128\n",
       "Guatemala City           0.005128\n",
       "Kankan                   0.005128\n",
       "Harare                   0.005128\n",
       "Name: count, Length: 188, dtype: float64"
      ]
     },
     "metadata": {},
     "output_type": "display_data"
    },
    {
     "name": "stdout",
     "output_type": "stream",
     "text": [
      "........................\n",
      "La distribución de las categorías para la columna OFFICIALLANGUAGE\n"
     ]
    },
    {
     "data": {
      "text/plain": [
       "officiallanguage\n",
       "English             0.158974\n",
       "French              0.128205\n",
       "Spanish             0.097436\n",
       "Arabic              0.092308\n",
       "Portuguese          0.035897\n",
       "                      ...   \n",
       "Albanian            0.005128\n",
       "Jamaican English    0.005128\n",
       "Lao                 0.005128\n",
       "Latvian             0.005128\n",
       "Shona               0.005128\n",
       "Name: count, Length: 76, dtype: float64"
      ]
     },
     "metadata": {},
     "output_type": "display_data"
    },
    {
     "name": "stdout",
     "output_type": "stream",
     "text": [
      "........................\n"
     ]
    }
   ],
   "source": [
    "for col in nulos_categoricos:\n",
    "    print(f\"La distribución de las categorías para la columna {col.upper()}\")\n",
    "    display(df_pair[col].value_counts() / df_pair.shape[0])\n",
    "    print(\"........................\")"
   ]
  },
  {
   "cell_type": "code",
   "execution_count": 10,
   "metadata": {},
   "outputs": [],
   "source": [
    "columnas_moda = [\"officiallanguage\"]\n",
    "columnas_desconocido = [\"largestcity\", \"currency-code\", \"capital/majorcity\", \"abbreviation\"]"
   ]
  },
  {
   "cell_type": "code",
   "execution_count": 11,
   "metadata": {},
   "outputs": [
    {
     "name": "stdout",
     "output_type": "stream",
     "text": [
      "Después del reemplazo usando 'fillna' quedan los siguientes nulos\n"
     ]
    },
    {
     "data": {
      "text/plain": [
       "officiallanguage    0\n",
       "dtype: int64"
      ]
     },
     "execution_count": 11,
     "metadata": {},
     "output_type": "execute_result"
    }
   ],
   "source": [
    "# moda\n",
    "for columna in columnas_moda:\n",
    "    moda = df_pair[columna].mode()[0]    \n",
    "    df_pair[columna] = df_pair[columna].fillna(moda)\n",
    "\n",
    "print(\"Después del reemplazo usando 'fillna' quedan los siguientes nulos\")\n",
    "\n",
    "df_pair[columnas_moda].isnull().sum()"
   ]
  },
  {
   "cell_type": "code",
   "execution_count": 12,
   "metadata": {},
   "outputs": [
    {
     "name": "stdout",
     "output_type": "stream",
     "text": [
      "Después del reemplazo usando 'fillna' quedan los siguientes nulos\n"
     ]
    },
    {
     "data": {
      "text/plain": [
       "largestcity          0\n",
       "currency-code        0\n",
       "capital/majorcity    0\n",
       "abbreviation         0\n",
       "dtype: int64"
      ]
     },
     "execution_count": 12,
     "metadata": {},
     "output_type": "execute_result"
    }
   ],
   "source": [
    "# \"Uknown\"\n",
    "for columna in columnas_desconocido:\n",
    "\n",
    "    df_pair[columna] = df_pair[columna].fillna(\"Unknown\")\n",
    "\n",
    "print(\"Después del reemplazo usando 'fillna' quedan los siguientes nulos\")\n",
    "df_pair[columnas_desconocido].isnull().sum()"
   ]
  },
  {
   "cell_type": "markdown",
   "metadata": {},
   "source": [
    "# proceso var numéricas"
   ]
  },
  {
   "cell_type": "code",
   "execution_count": 13,
   "metadata": {},
   "outputs": [
    {
     "data": {
      "text/plain": [
       "Index(['agriculturalland', 'landarea', 'armedforcessize', 'birthrate',\n",
       "       'callingcode', 'co2-emissions', 'cpi', 'cpichange', 'fertilityrate',\n",
       "       'forestedarea', 'gasolineprice', 'gdp',\n",
       "       'grossprimaryeducationenrollment', 'grosstertiaryeducationenrollment',\n",
       "       'infantmortality', 'lifeexpectancy', 'maternalmortalityratio',\n",
       "       'minimumwage', 'outofpockethealthexpenditure', 'physiciansperthousand',\n",
       "       'population', 'populationlaborforceparticipation', 'taxrevenue',\n",
       "       'totaltaxrate', 'unemploymentrate', 'urban_population', 'lattitude',\n",
       "       'longitude'],\n",
       "      dtype='object')"
      ]
     },
     "execution_count": 13,
     "metadata": {},
     "output_type": "execute_result"
    }
   ],
   "source": [
    "nulos_numericos = df_pair[df_pair.columns[df_pair.isnull().any()]].select_dtypes(include = np.number).columns\n",
    "nulos_numericos"
   ]
  },
  {
   "cell_type": "code",
   "execution_count": 14,
   "metadata": {},
   "outputs": [
    {
     "data": {
      "text/plain": [
       "agriculturalland                     0.035897\n",
       "landarea                             0.005128\n",
       "armedforcessize                      0.123077\n",
       "birthrate                            0.030769\n",
       "callingcode                          0.005128\n",
       "co2-emissions                        0.035897\n",
       "cpi                                  0.087179\n",
       "cpichange                            0.082051\n",
       "fertilityrate                        0.035897\n",
       "forestedarea                         0.035897\n",
       "gasolineprice                        0.102564\n",
       "gdp                                  0.010256\n",
       "grossprimaryeducationenrollment      0.035897\n",
       "grosstertiaryeducationenrollment     0.061538\n",
       "infantmortality                      0.030769\n",
       "lifeexpectancy                       0.041026\n",
       "maternalmortalityratio               0.071795\n",
       "minimumwage                          0.230769\n",
       "outofpockethealthexpenditure         0.035897\n",
       "physiciansperthousand                0.035897\n",
       "population                           0.005128\n",
       "populationlaborforceparticipation    0.097436\n",
       "taxrevenue                           0.133333\n",
       "totaltaxrate                         0.061538\n",
       "unemploymentrate                     0.097436\n",
       "urban_population                     0.025641\n",
       "lattitude                            0.005128\n",
       "longitude                            0.005128\n",
       "dtype: float64"
      ]
     },
     "execution_count": 14,
     "metadata": {},
     "output_type": "execute_result"
    }
   ],
   "source": [
    "df_perc_nulos_num = df_pair[nulos_numericos].isnull().sum() / df_pair.shape[0]\n",
    "df_perc_nulos_num"
   ]
  },
  {
   "cell_type": "code",
   "execution_count": 15,
   "metadata": {},
   "outputs": [
    {
     "data": {
      "text/plain": [
       "agriculturalland                   0.035897\n",
       "landarea                           0.005128\n",
       "birthrate                          0.030769\n",
       "callingcode                        0.005128\n",
       "co2-emissions                      0.035897\n",
       "fertilityrate                      0.035897\n",
       "forestedarea                       0.035897\n",
       "gdp                                0.010256\n",
       "grossprimaryeducationenrollment    0.035897\n",
       "infantmortality                    0.030769\n",
       "lifeexpectancy                     0.041026\n",
       "outofpockethealthexpenditure       0.035897\n",
       "physiciansperthousand              0.035897\n",
       "population                         0.005128\n",
       "urban_population                   0.025641\n",
       "lattitude                          0.005128\n",
       "longitude                          0.005128\n",
       "dtype: float64"
      ]
     },
     "execution_count": 15,
     "metadata": {},
     "output_type": "execute_result"
    }
   ],
   "source": [
    "df_perc_nulos_num[df_perc_nulos_num < 0.05] #sacamos los que estan por debajo de 5% de nulos y les imputaremos moda o mediana"
   ]
  },
  {
   "cell_type": "code",
   "execution_count": 16,
   "metadata": {},
   "outputs": [
    {
     "data": {
      "text/plain": [
       "armedforcessize                      0.123077\n",
       "cpi                                  0.087179\n",
       "cpichange                            0.082051\n",
       "gasolineprice                        0.102564\n",
       "grosstertiaryeducationenrollment     0.061538\n",
       "maternalmortalityratio               0.071795\n",
       "minimumwage                          0.230769\n",
       "populationlaborforceparticipation    0.097436\n",
       "taxrevenue                           0.133333\n",
       "totaltaxrate                         0.061538\n",
       "unemploymentrate                     0.097436\n",
       "dtype: float64"
      ]
     },
     "execution_count": 16,
     "metadata": {},
     "output_type": "execute_result"
    }
   ],
   "source": [
    "df_perc_nulos_num[df_perc_nulos_num >= 0.05]#sacamos los que estan por encima o igual de 5% de nulos y haremos los dos métodos (iterative - KNN)"
   ]
  },
  {
   "cell_type": "code",
   "execution_count": 17,
   "metadata": {},
   "outputs": [
    {
     "data": {
      "image/png": "[encoded data removed]",
      "text/plain": [
       "<Figure size 2000x1000 with 27 Axes>"
      ]
     },
     "metadata": {},
     "output_type": "display_data"
    }
   ],
   "source": [
    "\n",
    "fig, axes = plt.subplots(nrows = 7, ncols = 4, figsize = (20,10)) \n",
    "\n",
    "axes = axes.flat\n",
    "\n",
    "for indice, col in enumerate(nulos_numericos):\n",
    "    sns.boxplot(x = col, data = df_pair, ax = axes[indice])\n",
    "    \n",
    "plt.tight_layout()\n",
    "fig.delaxes(axes[-1]);"
   ]
  },
  {
   "cell_type": "markdown",
   "metadata": {},
   "source": [
    "Vamos a sacar la media y mediana de todas las columnas con un numero de nulos menor a 5% "
   ]
  },
  {
   "cell_type": "code",
   "execution_count": 18,
   "metadata": {},
   "outputs": [],
   "source": [
    "variables_iterar = ['agriculturalland', 'landarea', 'armedforcessize', 'birthrate',\n",
    "       'callingcode', 'co2-emissions', 'cpi', 'cpichange', 'fertilityrate',\n",
    "       'forestedarea', 'gasolineprice', 'gdp',\n",
    "       'grossprimaryeducationenrollment', 'grosstertiaryeducationenrollment',\n",
    "       'infantmortality', 'lifeexpectancy', 'maternalmortalityratio',\n",
    "       'minimumwage', 'outofpockethealthexpenditure', 'physiciansperthousand',\n",
    "       'population', 'populationlaborforceparticipation', 'taxrevenue',\n",
    "       'totaltaxrate', 'unemploymentrate', 'urban_population', 'lattitude',\n",
    "       'longitude']"
   ]
  },
  {
   "cell_type": "code",
   "execution_count": 19,
   "metadata": {},
   "outputs": [
    {
     "data": {
      "text/plain": [
       "'agriculturalland'"
      ]
     },
     "metadata": {},
     "output_type": "display_data"
    },
    {
     "data": {
      "text/plain": [
       "mean    39.117553\n",
       "50%     39.600000\n",
       "Name: agriculturalland, dtype: float64"
      ]
     },
     "metadata": {},
     "output_type": "display_data"
    },
    {
     "data": {
      "text/plain": [
       "'landarea'"
      ]
     },
     "metadata": {},
     "output_type": "display_data"
    },
    {
     "data": {
      "text/plain": [
       "mean    689624.365979\n",
       "50%     119511.000000\n",
       "Name: landarea, dtype: float64"
      ]
     },
     "metadata": {},
     "output_type": "display_data"
    },
    {
     "data": {
      "text/plain": [
       "'armedforcessize'"
      ]
     },
     "metadata": {},
     "output_type": "display_data"
    },
    {
     "data": {
      "text/plain": [
       "mean    159274.853801\n",
       "50%      31000.000000\n",
       "Name: armedforcessize, dtype: float64"
      ]
     },
     "metadata": {},
     "output_type": "display_data"
    },
    {
     "data": {
      "text/plain": [
       "'birthrate'"
      ]
     },
     "metadata": {},
     "output_type": "display_data"
    },
    {
     "data": {
      "text/plain": [
       "mean    20.214974\n",
       "50%     17.950000\n",
       "Name: birthrate, dtype: float64"
      ]
     },
     "metadata": {},
     "output_type": "display_data"
    },
    {
     "data": {
      "text/plain": [
       "'callingcode'"
      ]
     },
     "metadata": {},
     "output_type": "display_data"
    },
    {
     "data": {
      "text/plain": [
       "mean    360.546392\n",
       "50%     255.500000\n",
       "Name: callingcode, dtype: float64"
      ]
     },
     "metadata": {},
     "output_type": "display_data"
    },
    {
     "data": {
      "text/plain": [
       "'co2-emissions'"
      ]
     },
     "metadata": {},
     "output_type": "display_data"
    },
    {
     "data": {
      "text/plain": [
       "mean    177799.239362\n",
       "50%      12303.000000\n",
       "Name: co2-emissions, dtype: float64"
      ]
     },
     "metadata": {},
     "output_type": "display_data"
    },
    {
     "data": {
      "text/plain": [
       "'cpi'"
      ]
     },
     "metadata": {},
     "output_type": "display_data"
    },
    {
     "data": {
      "text/plain": [
       "mean    190.460955\n",
       "50%     125.340000\n",
       "Name: cpi, dtype: float64"
      ]
     },
     "metadata": {},
     "output_type": "display_data"
    },
    {
     "data": {
      "text/plain": [
       "'cpichange'"
      ]
     },
     "metadata": {},
     "output_type": "display_data"
    },
    {
     "data": {
      "text/plain": [
       "mean    6.722346\n",
       "50%     2.300000\n",
       "Name: cpichange, dtype: float64"
      ]
     },
     "metadata": {},
     "output_type": "display_data"
    },
    {
     "data": {
      "text/plain": [
       "'fertilityrate'"
      ]
     },
     "metadata": {},
     "output_type": "display_data"
    },
    {
     "data": {
      "text/plain": [
       "mean    2.698138\n",
       "50%     2.245000\n",
       "Name: fertilityrate, dtype: float64"
      ]
     },
     "metadata": {},
     "output_type": "display_data"
    },
    {
     "data": {
      "text/plain": [
       "'forestedarea'"
      ]
     },
     "metadata": {},
     "output_type": "display_data"
    },
    {
     "data": {
      "text/plain": [
       "mean    32.015426\n",
       "50%     32.000000\n",
       "Name: forestedarea, dtype: float64"
      ]
     },
     "metadata": {},
     "output_type": "display_data"
    },
    {
     "data": {
      "text/plain": [
       "'gasolineprice'"
      ]
     },
     "metadata": {},
     "output_type": "display_data"
    },
    {
     "data": {
      "text/plain": [
       "mean    1.002457\n",
       "50%     0.980000\n",
       "Name: gasolineprice, dtype: float64"
      ]
     },
     "metadata": {},
     "output_type": "display_data"
    },
    {
     "data": {
      "text/plain": [
       "'gdp'"
      ]
     },
     "metadata": {},
     "output_type": "display_data"
    },
    {
     "data": {
      "text/plain": [
       "mean    4.772959e+11\n",
       "50%     3.438723e+10\n",
       "Name: gdp, dtype: float64"
      ]
     },
     "metadata": {},
     "output_type": "display_data"
    },
    {
     "data": {
      "text/plain": [
       "'grossprimaryeducationenrollment'"
      ]
     },
     "metadata": {},
     "output_type": "display_data"
    },
    {
     "data": {
      "text/plain": [
       "mean    102.470213\n",
       "50%     102.550000\n",
       "Name: grossprimaryeducationenrollment, dtype: float64"
      ]
     },
     "metadata": {},
     "output_type": "display_data"
    },
    {
     "data": {
      "text/plain": [
       "'grosstertiaryeducationenrollment'"
      ]
     },
     "metadata": {},
     "output_type": "display_data"
    },
    {
     "data": {
      "text/plain": [
       "mean    37.963388\n",
       "50%     31.200000\n",
       "Name: grosstertiaryeducationenrollment, dtype: float64"
      ]
     },
     "metadata": {},
     "output_type": "display_data"
    },
    {
     "data": {
      "text/plain": [
       "'infantmortality'"
      ]
     },
     "metadata": {},
     "output_type": "display_data"
    },
    {
     "data": {
      "text/plain": [
       "mean    21.332804\n",
       "50%     14.000000\n",
       "Name: infantmortality, dtype: float64"
      ]
     },
     "metadata": {},
     "output_type": "display_data"
    },
    {
     "data": {
      "text/plain": [
       "'lifeexpectancy'"
      ]
     },
     "metadata": {},
     "output_type": "display_data"
    },
    {
     "data": {
      "text/plain": [
       "mean    72.279679\n",
       "50%     73.200000\n",
       "Name: lifeexpectancy, dtype: float64"
      ]
     },
     "metadata": {},
     "output_type": "display_data"
    },
    {
     "data": {
      "text/plain": [
       "'maternalmortalityratio'"
      ]
     },
     "metadata": {},
     "output_type": "display_data"
    },
    {
     "data": {
      "text/plain": [
       "mean    160.392265\n",
       "50%      53.000000\n",
       "Name: maternalmortalityratio, dtype: float64"
      ]
     },
     "metadata": {},
     "output_type": "display_data"
    },
    {
     "data": {
      "text/plain": [
       "'minimumwage'"
      ]
     },
     "metadata": {},
     "output_type": "display_data"
    },
    {
     "data": {
      "text/plain": [
       "mean    2.194133\n",
       "50%     1.045000\n",
       "Name: minimumwage, dtype: float64"
      ]
     },
     "metadata": {},
     "output_type": "display_data"
    },
    {
     "data": {
      "text/plain": [
       "'outofpockethealthexpenditure'"
      ]
     },
     "metadata": {},
     "output_type": "display_data"
    },
    {
     "data": {
      "text/plain": [
       "mean    32.637234\n",
       "50%     30.700000\n",
       "Name: outofpockethealthexpenditure, dtype: float64"
      ]
     },
     "metadata": {},
     "output_type": "display_data"
    },
    {
     "data": {
      "text/plain": [
       "'physiciansperthousand'"
      ]
     },
     "metadata": {},
     "output_type": "display_data"
    },
    {
     "data": {
      "text/plain": [
       "mean    1.83984\n",
       "50%     1.46000\n",
       "Name: physiciansperthousand, dtype: float64"
      ]
     },
     "metadata": {},
     "output_type": "display_data"
    },
    {
     "data": {
      "text/plain": [
       "'population'"
      ]
     },
     "metadata": {},
     "output_type": "display_data"
    },
    {
     "data": {
      "text/plain": [
       "mean    3.938116e+07\n",
       "50%     8.826588e+06\n",
       "Name: population, dtype: float64"
      ]
     },
     "metadata": {},
     "output_type": "display_data"
    },
    {
     "data": {
      "text/plain": [
       "'populationlaborforceparticipation'"
      ]
     },
     "metadata": {},
     "output_type": "display_data"
    },
    {
     "data": {
      "text/plain": [
       "mean    62.738068\n",
       "50%     62.450000\n",
       "Name: populationlaborforceparticipation, dtype: float64"
      ]
     },
     "metadata": {},
     "output_type": "display_data"
    },
    {
     "data": {
      "text/plain": [
       "'taxrevenue'"
      ]
     },
     "metadata": {},
     "output_type": "display_data"
    },
    {
     "data": {
      "text/plain": [
       "mean    16.573964\n",
       "50%     16.300000\n",
       "Name: taxrevenue, dtype: float64"
      ]
     },
     "metadata": {},
     "output_type": "display_data"
    },
    {
     "data": {
      "text/plain": [
       "'totaltaxrate'"
      ]
     },
     "metadata": {},
     "output_type": "display_data"
    },
    {
     "data": {
      "text/plain": [
       "mean    40.822404\n",
       "50%     37.200000\n",
       "Name: totaltaxrate, dtype: float64"
      ]
     },
     "metadata": {},
     "output_type": "display_data"
    },
    {
     "data": {
      "text/plain": [
       "'unemploymentrate'"
      ]
     },
     "metadata": {},
     "output_type": "display_data"
    },
    {
     "data": {
      "text/plain": [
       "mean    6.886364\n",
       "50%     5.360000\n",
       "Name: unemploymentrate, dtype: float64"
      ]
     },
     "metadata": {},
     "output_type": "display_data"
    },
    {
     "data": {
      "text/plain": [
       "'urban_population'"
      ]
     },
     "metadata": {},
     "output_type": "display_data"
    },
    {
     "data": {
      "text/plain": [
       "mean    2.230454e+07\n",
       "50%     4.678104e+06\n",
       "Name: urban_population, dtype: float64"
      ]
     },
     "metadata": {},
     "output_type": "display_data"
    },
    {
     "data": {
      "text/plain": [
       "'lattitude'"
      ]
     },
     "metadata": {},
     "output_type": "display_data"
    },
    {
     "data": {
      "text/plain": [
       "mean    19.092351\n",
       "50%     17.273849\n",
       "Name: lattitude, dtype: float64"
      ]
     },
     "metadata": {},
     "output_type": "display_data"
    },
    {
     "data": {
      "text/plain": [
       "'longitude'"
      ]
     },
     "metadata": {},
     "output_type": "display_data"
    },
    {
     "data": {
      "text/plain": [
       "mean    20.232434\n",
       "50%     20.972652\n",
       "Name: longitude, dtype: float64"
      ]
     },
     "metadata": {},
     "output_type": "display_data"
    }
   ],
   "source": [
    "for variable in variables_iterar:\n",
    "    if variable in df_pair.columns:  \n",
    "        resultado = df_pair[variable].describe()[[\"mean\", \"50%\"]]\n",
    "        display(variable,resultado)"
   ]
  },
  {
   "cell_type": "markdown",
   "metadata": {},
   "source": [
    "- Sustituimos todos los nulls (menor a 5%) de aquellas variables numéricas con la MEDIANA. "
   ]
  },
  {
   "cell_type": "code",
   "execution_count": 20,
   "metadata": {},
   "outputs": [
    {
     "name": "stdout",
     "output_type": "stream",
     "text": [
      "La media de la columna 'conspriceidx' es: 39.6\n",
      "Después del 'fillna' tenemos 0 nulos\n"
     ]
    }
   ],
   "source": [
    "\n",
    "mediana_agriculturalland = df_pair[\"agriculturalland\"].median()\n",
    "print(f\"La media de la columna 'conspriceidx' es: {round(mediana_agriculturalland, 2)}\")\n",
    "\n",
    "\n",
    "df_pair[\"agriculturalland\"] = df_pair[\"agriculturalland\"].fillna(mediana_agriculturalland)\n",
    "\n",
    "\n",
    "print(f\"Después del 'fillna' tenemos {df_pair['agriculturalland'].isnull().sum()} nulos\")"
   ]
  },
  {
   "cell_type": "markdown",
   "metadata": {},
   "source": [
    "EN LOOP "
   ]
  },
  {
   "cell_type": "code",
   "execution_count": 21,
   "metadata": {},
   "outputs": [
    {
     "name": "stdout",
     "output_type": "stream",
     "text": [
      "La mediana de la columna 'agriculturalland' es: 39.6\n",
      "Después de 'fillna', la columna 'agriculturalland' tiene 0 valores nulos\n",
      "La mediana de la columna 'landarea' es: 119511.0\n",
      "Después de 'fillna', la columna 'landarea' tiene 0 valores nulos\n",
      "La mediana de la columna 'armedforcessize' es: 31000.0\n",
      "Después de 'fillna', la columna 'armedforcessize' tiene 0 valores nulos\n",
      "La mediana de la columna 'birthrate' es: 17.95\n",
      "Después de 'fillna', la columna 'birthrate' tiene 0 valores nulos\n",
      "La mediana de la columna 'callingcode' es: 255.5\n",
      "Después de 'fillna', la columna 'callingcode' tiene 0 valores nulos\n",
      "La mediana de la columna 'co2-emissions' es: 12303.0\n",
      "Después de 'fillna', la columna 'co2-emissions' tiene 0 valores nulos\n",
      "La mediana de la columna 'cpi' es: 125.34\n",
      "Después de 'fillna', la columna 'cpi' tiene 0 valores nulos\n",
      "La mediana de la columna 'cpichange' es: 2.3\n",
      "Después de 'fillna', la columna 'cpichange' tiene 0 valores nulos\n",
      "La mediana de la columna 'fertilityrate' es: 2.25\n",
      "Después de 'fillna', la columna 'fertilityrate' tiene 0 valores nulos\n",
      "La mediana de la columna 'forestedarea' es: 32.0\n",
      "Después de 'fillna', la columna 'forestedarea' tiene 0 valores nulos\n",
      "La mediana de la columna 'gasolineprice' es: 0.98\n",
      "Después de 'fillna', la columna 'gasolineprice' tiene 0 valores nulos\n",
      "La mediana de la columna 'gdp' es: 34387229486.0\n",
      "Después de 'fillna', la columna 'gdp' tiene 0 valores nulos\n",
      "La mediana de la columna 'grossprimaryeducationenrollment' es: 102.55\n",
      "Después de 'fillna', la columna 'grossprimaryeducationenrollment' tiene 0 valores nulos\n",
      "La mediana de la columna 'grosstertiaryeducationenrollment' es: 31.2\n",
      "Después de 'fillna', la columna 'grosstertiaryeducationenrollment' tiene 0 valores nulos\n",
      "La mediana de la columna 'infantmortality' es: 14.0\n",
      "Después de 'fillna', la columna 'infantmortality' tiene 0 valores nulos\n",
      "La mediana de la columna 'lifeexpectancy' es: 73.2\n",
      "Después de 'fillna', la columna 'lifeexpectancy' tiene 0 valores nulos\n",
      "La mediana de la columna 'maternalmortalityratio' es: 53.0\n",
      "Después de 'fillna', la columna 'maternalmortalityratio' tiene 0 valores nulos\n",
      "La mediana de la columna 'minimumwage' es: 1.04\n",
      "Después de 'fillna', la columna 'minimumwage' tiene 0 valores nulos\n",
      "La mediana de la columna 'outofpockethealthexpenditure' es: 30.7\n",
      "Después de 'fillna', la columna 'outofpockethealthexpenditure' tiene 0 valores nulos\n",
      "La mediana de la columna 'physiciansperthousand' es: 1.46\n",
      "Después de 'fillna', la columna 'physiciansperthousand' tiene 0 valores nulos\n",
      "La mediana de la columna 'population' es: 8826588.0\n",
      "Después de 'fillna', la columna 'population' tiene 0 valores nulos\n",
      "La mediana de la columna 'populationlaborforceparticipation' es: 62.45\n",
      "Después de 'fillna', la columna 'populationlaborforceparticipation' tiene 0 valores nulos\n",
      "La mediana de la columna 'taxrevenue' es: 16.3\n",
      "Después de 'fillna', la columna 'taxrevenue' tiene 0 valores nulos\n",
      "La mediana de la columna 'totaltaxrate' es: 37.2\n",
      "Después de 'fillna', la columna 'totaltaxrate' tiene 0 valores nulos\n",
      "La mediana de la columna 'unemploymentrate' es: 5.36\n",
      "Después de 'fillna', la columna 'unemploymentrate' tiene 0 valores nulos\n",
      "La mediana de la columna 'urban_population' es: 4678103.5\n",
      "Después de 'fillna', la columna 'urban_population' tiene 0 valores nulos\n",
      "La mediana de la columna 'lattitude' es: 17.27\n",
      "Después de 'fillna', la columna 'lattitude' tiene 0 valores nulos\n",
      "La mediana de la columna 'longitude' es: 20.97\n",
      "Después de 'fillna', la columna 'longitude' tiene 0 valores nulos\n"
     ]
    }
   ],
   "source": [
    "variables_iterar = ['agriculturalland', 'landarea', 'armedforcessize', 'birthrate',\n",
    "       'callingcode', 'co2-emissions', 'cpi', 'cpichange', 'fertilityrate',\n",
    "       'forestedarea', 'gasolineprice', 'gdp',\n",
    "       'grossprimaryeducationenrollment', 'grosstertiaryeducationenrollment',\n",
    "       'infantmortality', 'lifeexpectancy', 'maternalmortalityratio',\n",
    "       'minimumwage', 'outofpockethealthexpenditure', 'physiciansperthousand',\n",
    "       'population', 'populationlaborforceparticipation', 'taxrevenue',\n",
    "       'totaltaxrate', 'unemploymentrate', 'urban_population', 'lattitude',\n",
    "       'longitude']\n",
    "\n",
    "for columna in variables_iterar:\n",
    "\n",
    "    mediana_actual = df_pair[columna].median()\n",
    "    print(f\"La mediana de la columna '{columna}' es: {round(mediana_actual, 2)}\")\n",
    "\n",
    "\n",
    "    df_pair[columna] = df_pair[columna].fillna(mediana_actual)\n",
    "\n",
    "    print(f\"Después de 'fillna', la columna '{columna}' tiene {df_pair[columna].isnull().sum()} valores nulos\")\n"
   ]
  },
  {
   "cell_type": "markdown",
   "metadata": {},
   "source": [
    "- Las que tienen más de un 5%, veremos que método escogemos: iterative vs KNN"
   ]
  },
  {
   "cell_type": "code",
   "execution_count": 22,
   "metadata": {},
   "outputs": [
    {
     "data": {
      "text/html": [
       "<div>\n",
       "<style scoped>\n",
       "    .dataframe tbody tr th:only-of-type {\n",
       "        vertical-align: middle;\n",
       "    }\n",
       "\n",
       "    .dataframe tbody tr th {\n",
       "        vertical-align: top;\n",
       "    }\n",
       "\n",
       "    .dataframe thead th {\n",
       "        text-align: right;\n",
       "    }\n",
       "</style>\n",
       "<table border=\"1\" class=\"dataframe\">\n",
       "  <thead>\n",
       "    <tr style=\"text-align: right;\">\n",
       "      <th></th>\n",
       "      <th>country</th>\n",
       "      <th>density</th>\n",
       "      <th>abbreviation</th>\n",
       "      <th>agriculturalland</th>\n",
       "      <th>landarea</th>\n",
       "      <th>armedforcessize</th>\n",
       "      <th>birthrate</th>\n",
       "      <th>callingcode</th>\n",
       "      <th>capital/majorcity</th>\n",
       "      <th>co2-emissions</th>\n",
       "      <th>cpi</th>\n",
       "      <th>cpichange</th>\n",
       "      <th>currency-code</th>\n",
       "      <th>fertilityrate</th>\n",
       "      <th>forestedarea</th>\n",
       "      <th>gasolineprice</th>\n",
       "      <th>gdp</th>\n",
       "      <th>grossprimaryeducationenrollment</th>\n",
       "      <th>grosstertiaryeducationenrollment</th>\n",
       "      <th>infantmortality</th>\n",
       "      <th>largestcity</th>\n",
       "      <th>lifeexpectancy</th>\n",
       "      <th>maternalmortalityratio</th>\n",
       "      <th>minimumwage</th>\n",
       "      <th>officiallanguage</th>\n",
       "      <th>outofpockethealthexpenditure</th>\n",
       "      <th>physiciansperthousand</th>\n",
       "      <th>population</th>\n",
       "      <th>populationlaborforceparticipation</th>\n",
       "      <th>taxrevenue</th>\n",
       "      <th>totaltaxrate</th>\n",
       "      <th>unemploymentrate</th>\n",
       "      <th>urban_population</th>\n",
       "      <th>lattitude</th>\n",
       "      <th>longitude</th>\n",
       "      <th>continente</th>\n",
       "    </tr>\n",
       "  </thead>\n",
       "  <tbody>\n",
       "    <tr>\n",
       "      <th>0</th>\n",
       "      <td>Afghanistan</td>\n",
       "      <td>60.0</td>\n",
       "      <td>AF</td>\n",
       "      <td>58.1</td>\n",
       "      <td>652230.0</td>\n",
       "      <td>323000.0</td>\n",
       "      <td>32.49</td>\n",
       "      <td>93.0</td>\n",
       "      <td>Kabul</td>\n",
       "      <td>8672.0</td>\n",
       "      <td>149.90</td>\n",
       "      <td>2.3</td>\n",
       "      <td>AFN</td>\n",
       "      <td>4.47</td>\n",
       "      <td>2.1</td>\n",
       "      <td>0.70</td>\n",
       "      <td>1.910135e+10</td>\n",
       "      <td>104.0</td>\n",
       "      <td>9.7</td>\n",
       "      <td>47.9</td>\n",
       "      <td>Kabul</td>\n",
       "      <td>64.5</td>\n",
       "      <td>638.0</td>\n",
       "      <td>0.430</td>\n",
       "      <td>Pashto</td>\n",
       "      <td>78.4</td>\n",
       "      <td>0.28</td>\n",
       "      <td>38041754.0</td>\n",
       "      <td>48.90</td>\n",
       "      <td>9.3</td>\n",
       "      <td>71.4</td>\n",
       "      <td>11.12</td>\n",
       "      <td>9797273.0</td>\n",
       "      <td>33.939110</td>\n",
       "      <td>67.709953</td>\n",
       "      <td>Asia</td>\n",
       "    </tr>\n",
       "    <tr>\n",
       "      <th>1</th>\n",
       "      <td>Albania</td>\n",
       "      <td>105.0</td>\n",
       "      <td>AL</td>\n",
       "      <td>43.1</td>\n",
       "      <td>28748.0</td>\n",
       "      <td>9000.0</td>\n",
       "      <td>11.78</td>\n",
       "      <td>355.0</td>\n",
       "      <td>Tirana</td>\n",
       "      <td>4536.0</td>\n",
       "      <td>119.05</td>\n",
       "      <td>1.4</td>\n",
       "      <td>ALL</td>\n",
       "      <td>1.62</td>\n",
       "      <td>28.1</td>\n",
       "      <td>1.36</td>\n",
       "      <td>1.527808e+10</td>\n",
       "      <td>107.0</td>\n",
       "      <td>55.0</td>\n",
       "      <td>7.8</td>\n",
       "      <td>Tirana</td>\n",
       "      <td>78.5</td>\n",
       "      <td>15.0</td>\n",
       "      <td>1.120</td>\n",
       "      <td>Albanian</td>\n",
       "      <td>56.9</td>\n",
       "      <td>1.20</td>\n",
       "      <td>2854191.0</td>\n",
       "      <td>55.70</td>\n",
       "      <td>18.6</td>\n",
       "      <td>36.6</td>\n",
       "      <td>12.33</td>\n",
       "      <td>1747593.0</td>\n",
       "      <td>41.153332</td>\n",
       "      <td>20.168331</td>\n",
       "      <td>Europa</td>\n",
       "    </tr>\n",
       "    <tr>\n",
       "      <th>2</th>\n",
       "      <td>Algeria</td>\n",
       "      <td>18.0</td>\n",
       "      <td>DZ</td>\n",
       "      <td>17.4</td>\n",
       "      <td>2381741.0</td>\n",
       "      <td>317000.0</td>\n",
       "      <td>24.28</td>\n",
       "      <td>213.0</td>\n",
       "      <td>Algiers</td>\n",
       "      <td>150006.0</td>\n",
       "      <td>151.36</td>\n",
       "      <td>2.0</td>\n",
       "      <td>DZD</td>\n",
       "      <td>3.02</td>\n",
       "      <td>0.8</td>\n",
       "      <td>0.28</td>\n",
       "      <td>1.699882e+11</td>\n",
       "      <td>109.9</td>\n",
       "      <td>51.4</td>\n",
       "      <td>20.1</td>\n",
       "      <td>Algiers</td>\n",
       "      <td>76.7</td>\n",
       "      <td>112.0</td>\n",
       "      <td>0.950</td>\n",
       "      <td>Arabic</td>\n",
       "      <td>28.1</td>\n",
       "      <td>1.72</td>\n",
       "      <td>43053054.0</td>\n",
       "      <td>41.20</td>\n",
       "      <td>37.2</td>\n",
       "      <td>66.1</td>\n",
       "      <td>11.70</td>\n",
       "      <td>31510100.0</td>\n",
       "      <td>28.033886</td>\n",
       "      <td>1.659626</td>\n",
       "      <td>África</td>\n",
       "    </tr>\n",
       "    <tr>\n",
       "      <th>3</th>\n",
       "      <td>Andorra</td>\n",
       "      <td>164.0</td>\n",
       "      <td>AD</td>\n",
       "      <td>40.0</td>\n",
       "      <td>468.0</td>\n",
       "      <td>31000.0</td>\n",
       "      <td>7.20</td>\n",
       "      <td>376.0</td>\n",
       "      <td>Andorra la Vella</td>\n",
       "      <td>469.0</td>\n",
       "      <td>125.34</td>\n",
       "      <td>2.3</td>\n",
       "      <td>EUR</td>\n",
       "      <td>1.27</td>\n",
       "      <td>34.0</td>\n",
       "      <td>1.51</td>\n",
       "      <td>3.154058e+09</td>\n",
       "      <td>106.4</td>\n",
       "      <td>31.2</td>\n",
       "      <td>2.7</td>\n",
       "      <td>Andorra la Vella</td>\n",
       "      <td>73.2</td>\n",
       "      <td>53.0</td>\n",
       "      <td>6.630</td>\n",
       "      <td>Catalan</td>\n",
       "      <td>36.4</td>\n",
       "      <td>3.33</td>\n",
       "      <td>77142.0</td>\n",
       "      <td>62.45</td>\n",
       "      <td>16.3</td>\n",
       "      <td>37.2</td>\n",
       "      <td>5.36</td>\n",
       "      <td>67873.0</td>\n",
       "      <td>42.506285</td>\n",
       "      <td>1.521801</td>\n",
       "      <td>Europa</td>\n",
       "    </tr>\n",
       "    <tr>\n",
       "      <th>4</th>\n",
       "      <td>Angola</td>\n",
       "      <td>26.0</td>\n",
       "      <td>AO</td>\n",
       "      <td>47.5</td>\n",
       "      <td>1246700.0</td>\n",
       "      <td>117000.0</td>\n",
       "      <td>40.73</td>\n",
       "      <td>244.0</td>\n",
       "      <td>Luanda</td>\n",
       "      <td>34693.0</td>\n",
       "      <td>261.73</td>\n",
       "      <td>17.1</td>\n",
       "      <td>AOA</td>\n",
       "      <td>5.52</td>\n",
       "      <td>46.3</td>\n",
       "      <td>0.97</td>\n",
       "      <td>9.463542e+10</td>\n",
       "      <td>113.5</td>\n",
       "      <td>9.3</td>\n",
       "      <td>51.6</td>\n",
       "      <td>Luanda</td>\n",
       "      <td>60.8</td>\n",
       "      <td>241.0</td>\n",
       "      <td>0.710</td>\n",
       "      <td>Portuguese</td>\n",
       "      <td>33.4</td>\n",
       "      <td>0.21</td>\n",
       "      <td>31825295.0</td>\n",
       "      <td>77.50</td>\n",
       "      <td>9.2</td>\n",
       "      <td>49.1</td>\n",
       "      <td>6.89</td>\n",
       "      <td>21061025.0</td>\n",
       "      <td>-11.202692</td>\n",
       "      <td>17.873887</td>\n",
       "      <td>África</td>\n",
       "    </tr>\n",
       "    <tr>\n",
       "      <th>5</th>\n",
       "      <td>Antigua and Barbuda</td>\n",
       "      <td>223.0</td>\n",
       "      <td>AG</td>\n",
       "      <td>20.5</td>\n",
       "      <td>443.0</td>\n",
       "      <td>0.0</td>\n",
       "      <td>15.33</td>\n",
       "      <td>1.0</td>\n",
       "      <td>St. John's, Saint John</td>\n",
       "      <td>557.0</td>\n",
       "      <td>113.81</td>\n",
       "      <td>1.2</td>\n",
       "      <td>XCD</td>\n",
       "      <td>1.99</td>\n",
       "      <td>22.3</td>\n",
       "      <td>0.99</td>\n",
       "      <td>1.727759e+09</td>\n",
       "      <td>105.0</td>\n",
       "      <td>24.8</td>\n",
       "      <td>5.0</td>\n",
       "      <td>St. John's, Saint John</td>\n",
       "      <td>76.9</td>\n",
       "      <td>42.0</td>\n",
       "      <td>3.040</td>\n",
       "      <td>English</td>\n",
       "      <td>24.3</td>\n",
       "      <td>2.76</td>\n",
       "      <td>97118.0</td>\n",
       "      <td>62.45</td>\n",
       "      <td>16.5</td>\n",
       "      <td>43.0</td>\n",
       "      <td>5.36</td>\n",
       "      <td>23800.0</td>\n",
       "      <td>17.060816</td>\n",
       "      <td>-61.796428</td>\n",
       "      <td>América del Norte</td>\n",
       "    </tr>\n",
       "    <tr>\n",
       "      <th>6</th>\n",
       "      <td>Argentina</td>\n",
       "      <td>17.0</td>\n",
       "      <td>AR</td>\n",
       "      <td>54.3</td>\n",
       "      <td>2780400.0</td>\n",
       "      <td>105000.0</td>\n",
       "      <td>17.02</td>\n",
       "      <td>54.0</td>\n",
       "      <td>Buenos Aires</td>\n",
       "      <td>201348.0</td>\n",
       "      <td>232.75</td>\n",
       "      <td>53.5</td>\n",
       "      <td>ARS</td>\n",
       "      <td>2.26</td>\n",
       "      <td>9.8</td>\n",
       "      <td>1.10</td>\n",
       "      <td>4.496634e+11</td>\n",
       "      <td>109.7</td>\n",
       "      <td>90.0</td>\n",
       "      <td>8.8</td>\n",
       "      <td>Buenos Aires</td>\n",
       "      <td>76.5</td>\n",
       "      <td>39.0</td>\n",
       "      <td>3.350</td>\n",
       "      <td>Spanish</td>\n",
       "      <td>17.6</td>\n",
       "      <td>3.96</td>\n",
       "      <td>44938712.0</td>\n",
       "      <td>61.30</td>\n",
       "      <td>10.1</td>\n",
       "      <td>106.3</td>\n",
       "      <td>9.79</td>\n",
       "      <td>41339571.0</td>\n",
       "      <td>-38.416097</td>\n",
       "      <td>-63.616672</td>\n",
       "      <td>América del Sur</td>\n",
       "    </tr>\n",
       "    <tr>\n",
       "      <th>7</th>\n",
       "      <td>Armenia</td>\n",
       "      <td>104.0</td>\n",
       "      <td>AM</td>\n",
       "      <td>58.9</td>\n",
       "      <td>29743.0</td>\n",
       "      <td>49000.0</td>\n",
       "      <td>13.99</td>\n",
       "      <td>374.0</td>\n",
       "      <td>Yerevan</td>\n",
       "      <td>5156.0</td>\n",
       "      <td>129.18</td>\n",
       "      <td>1.4</td>\n",
       "      <td>AMD</td>\n",
       "      <td>1.76</td>\n",
       "      <td>11.7</td>\n",
       "      <td>0.77</td>\n",
       "      <td>1.367280e+10</td>\n",
       "      <td>92.7</td>\n",
       "      <td>54.6</td>\n",
       "      <td>11.0</td>\n",
       "      <td>Yerevan</td>\n",
       "      <td>74.9</td>\n",
       "      <td>26.0</td>\n",
       "      <td>0.660</td>\n",
       "      <td>Armenian</td>\n",
       "      <td>81.6</td>\n",
       "      <td>4.40</td>\n",
       "      <td>2957731.0</td>\n",
       "      <td>55.60</td>\n",
       "      <td>20.9</td>\n",
       "      <td>22.6</td>\n",
       "      <td>16.99</td>\n",
       "      <td>1869848.0</td>\n",
       "      <td>40.069099</td>\n",
       "      <td>45.038189</td>\n",
       "      <td>Asia</td>\n",
       "    </tr>\n",
       "    <tr>\n",
       "      <th>8</th>\n",
       "      <td>Australia</td>\n",
       "      <td>3.0</td>\n",
       "      <td>AU</td>\n",
       "      <td>48.2</td>\n",
       "      <td>7741220.0</td>\n",
       "      <td>58000.0</td>\n",
       "      <td>12.60</td>\n",
       "      <td>61.0</td>\n",
       "      <td>Canberra</td>\n",
       "      <td>375908.0</td>\n",
       "      <td>119.80</td>\n",
       "      <td>1.6</td>\n",
       "      <td>AUD</td>\n",
       "      <td>1.74</td>\n",
       "      <td>16.3</td>\n",
       "      <td>0.93</td>\n",
       "      <td>1.392681e+12</td>\n",
       "      <td>100.3</td>\n",
       "      <td>113.1</td>\n",
       "      <td>3.1</td>\n",
       "      <td>Sydney</td>\n",
       "      <td>82.7</td>\n",
       "      <td>6.0</td>\n",
       "      <td>13.590</td>\n",
       "      <td>English</td>\n",
       "      <td>19.6</td>\n",
       "      <td>3.68</td>\n",
       "      <td>25766605.0</td>\n",
       "      <td>65.50</td>\n",
       "      <td>23.0</td>\n",
       "      <td>47.4</td>\n",
       "      <td>5.27</td>\n",
       "      <td>21844756.0</td>\n",
       "      <td>-25.274398</td>\n",
       "      <td>133.775136</td>\n",
       "      <td>Oceanía</td>\n",
       "    </tr>\n",
       "    <tr>\n",
       "      <th>9</th>\n",
       "      <td>Austria</td>\n",
       "      <td>109.0</td>\n",
       "      <td>AT</td>\n",
       "      <td>32.4</td>\n",
       "      <td>83871.0</td>\n",
       "      <td>21000.0</td>\n",
       "      <td>9.70</td>\n",
       "      <td>43.0</td>\n",
       "      <td>Vienna</td>\n",
       "      <td>61448.0</td>\n",
       "      <td>118.06</td>\n",
       "      <td>1.5</td>\n",
       "      <td>EUR</td>\n",
       "      <td>1.47</td>\n",
       "      <td>46.9</td>\n",
       "      <td>1.20</td>\n",
       "      <td>4.463147e+11</td>\n",
       "      <td>103.1</td>\n",
       "      <td>85.1</td>\n",
       "      <td>2.9</td>\n",
       "      <td>Vienna</td>\n",
       "      <td>81.6</td>\n",
       "      <td>5.0</td>\n",
       "      <td>1.045</td>\n",
       "      <td>German</td>\n",
       "      <td>17.9</td>\n",
       "      <td>5.17</td>\n",
       "      <td>8877067.0</td>\n",
       "      <td>60.70</td>\n",
       "      <td>25.4</td>\n",
       "      <td>51.4</td>\n",
       "      <td>4.67</td>\n",
       "      <td>5194416.0</td>\n",
       "      <td>47.516231</td>\n",
       "      <td>14.550072</td>\n",
       "      <td>Europa</td>\n",
       "    </tr>\n",
       "  </tbody>\n",
       "</table>\n",
       "</div>"
      ],
      "text/plain": [
       "               country  density abbreviation  agriculturalland   landarea  \\\n",
       "0          Afghanistan     60.0           AF              58.1   652230.0   \n",
       "1              Albania    105.0           AL              43.1    28748.0   \n",
       "2              Algeria     18.0           DZ              17.4  2381741.0   \n",
       "3              Andorra    164.0           AD              40.0      468.0   \n",
       "4               Angola     26.0           AO              47.5  1246700.0   \n",
       "5  Antigua and Barbuda    223.0           AG              20.5      443.0   \n",
       "6            Argentina     17.0           AR              54.3  2780400.0   \n",
       "7              Armenia    104.0           AM              58.9    29743.0   \n",
       "8            Australia      3.0           AU              48.2  7741220.0   \n",
       "9              Austria    109.0           AT              32.4    83871.0   \n",
       "\n",
       "   armedforcessize  birthrate  callingcode       capital/majorcity  \\\n",
       "0         323000.0      32.49         93.0                   Kabul   \n",
       "1           9000.0      11.78        355.0                  Tirana   \n",
       "2         317000.0      24.28        213.0                 Algiers   \n",
       "3          31000.0       7.20        376.0        Andorra la Vella   \n",
       "4         117000.0      40.73        244.0                  Luanda   \n",
       "5              0.0      15.33          1.0  St. John's, Saint John   \n",
       "6         105000.0      17.02         54.0            Buenos Aires   \n",
       "7          49000.0      13.99        374.0                 Yerevan   \n",
       "8          58000.0      12.60         61.0                Canberra   \n",
       "9          21000.0       9.70         43.0                  Vienna   \n",
       "\n",
       "   co2-emissions     cpi  cpichange currency-code  fertilityrate  \\\n",
       "0         8672.0  149.90        2.3           AFN           4.47   \n",
       "1         4536.0  119.05        1.4           ALL           1.62   \n",
       "2       150006.0  151.36        2.0           DZD           3.02   \n",
       "3          469.0  125.34        2.3           EUR           1.27   \n",
       "4        34693.0  261.73       17.1           AOA           5.52   \n",
       "5          557.0  113.81        1.2           XCD           1.99   \n",
       "6       201348.0  232.75       53.5           ARS           2.26   \n",
       "7         5156.0  129.18        1.4           AMD           1.76   \n",
       "8       375908.0  119.80        1.6           AUD           1.74   \n",
       "9        61448.0  118.06        1.5           EUR           1.47   \n",
       "\n",
       "   forestedarea  gasolineprice           gdp  grossprimaryeducationenrollment  \\\n",
       "0           2.1           0.70  1.910135e+10                            104.0   \n",
       "1          28.1           1.36  1.527808e+10                            107.0   \n",
       "2           0.8           0.28  1.699882e+11                            109.9   \n",
       "3          34.0           1.51  3.154058e+09                            106.4   \n",
       "4          46.3           0.97  9.463542e+10                            113.5   \n",
       "5          22.3           0.99  1.727759e+09                            105.0   \n",
       "6           9.8           1.10  4.496634e+11                            109.7   \n",
       "7          11.7           0.77  1.367280e+10                             92.7   \n",
       "8          16.3           0.93  1.392681e+12                            100.3   \n",
       "9          46.9           1.20  4.463147e+11                            103.1   \n",
       "\n",
       "   grosstertiaryeducationenrollment  infantmortality             largestcity  \\\n",
       "0                               9.7             47.9                   Kabul   \n",
       "1                              55.0              7.8                  Tirana   \n",
       "2                              51.4             20.1                 Algiers   \n",
       "3                              31.2              2.7        Andorra la Vella   \n",
       "4                               9.3             51.6                  Luanda   \n",
       "5                              24.8              5.0  St. John's, Saint John   \n",
       "6                              90.0              8.8            Buenos Aires   \n",
       "7                              54.6             11.0                 Yerevan   \n",
       "8                             113.1              3.1                  Sydney   \n",
       "9                              85.1              2.9                  Vienna   \n",
       "\n",
       "   lifeexpectancy  maternalmortalityratio  minimumwage officiallanguage  \\\n",
       "0            64.5                   638.0        0.430           Pashto   \n",
       "1            78.5                    15.0        1.120         Albanian   \n",
       "2            76.7                   112.0        0.950           Arabic   \n",
       "3            73.2                    53.0        6.630          Catalan   \n",
       "4            60.8                   241.0        0.710       Portuguese   \n",
       "5            76.9                    42.0        3.040          English   \n",
       "6            76.5                    39.0        3.350          Spanish   \n",
       "7            74.9                    26.0        0.660         Armenian   \n",
       "8            82.7                     6.0       13.590          English   \n",
       "9            81.6                     5.0        1.045           German   \n",
       "\n",
       "   outofpockethealthexpenditure  physiciansperthousand  population  \\\n",
       "0                          78.4                   0.28  38041754.0   \n",
       "1                          56.9                   1.20   2854191.0   \n",
       "2                          28.1                   1.72  43053054.0   \n",
       "3                          36.4                   3.33     77142.0   \n",
       "4                          33.4                   0.21  31825295.0   \n",
       "5                          24.3                   2.76     97118.0   \n",
       "6                          17.6                   3.96  44938712.0   \n",
       "7                          81.6                   4.40   2957731.0   \n",
       "8                          19.6                   3.68  25766605.0   \n",
       "9                          17.9                   5.17   8877067.0   \n",
       "\n",
       "   populationlaborforceparticipation  taxrevenue  totaltaxrate  \\\n",
       "0                              48.90         9.3          71.4   \n",
       "1                              55.70        18.6          36.6   \n",
       "2                              41.20        37.2          66.1   \n",
       "3                              62.45        16.3          37.2   \n",
       "4                              77.50         9.2          49.1   \n",
       "5                              62.45        16.5          43.0   \n",
       "6                              61.30        10.1         106.3   \n",
       "7                              55.60        20.9          22.6   \n",
       "8                              65.50        23.0          47.4   \n",
       "9                              60.70        25.4          51.4   \n",
       "\n",
       "   unemploymentrate  urban_population  lattitude   longitude  \\\n",
       "0             11.12         9797273.0  33.939110   67.709953   \n",
       "1             12.33         1747593.0  41.153332   20.168331   \n",
       "2             11.70        31510100.0  28.033886    1.659626   \n",
       "3              5.36           67873.0  42.506285    1.521801   \n",
       "4              6.89        21061025.0 -11.202692   17.873887   \n",
       "5              5.36           23800.0  17.060816  -61.796428   \n",
       "6              9.79        41339571.0 -38.416097  -63.616672   \n",
       "7             16.99         1869848.0  40.069099   45.038189   \n",
       "8              5.27        21844756.0 -25.274398  133.775136   \n",
       "9              4.67         5194416.0  47.516231   14.550072   \n",
       "\n",
       "          continente  \n",
       "0               Asia  \n",
       "1             Europa  \n",
       "2             África  \n",
       "3             Europa  \n",
       "4             África  \n",
       "5  América del Norte  \n",
       "6    América del Sur  \n",
       "7               Asia  \n",
       "8            Oceanía  \n",
       "9             Europa  "
      ]
     },
     "execution_count": 22,
     "metadata": {},
     "output_type": "execute_result"
    }
   ],
   "source": [
    "df_copia = df_pair.copy()\n",
    "df_copia.head(10)"
   ]
  },
  {
   "cell_type": "code",
   "execution_count": 32,
   "metadata": {},
   "outputs": [
    {
     "data": {
      "text/plain": [
       "array([[3.2300e+05, 1.4990e+02, 2.3000e+00, ..., 9.3000e+00, 7.1400e+01,\n",
       "        1.1120e+01],\n",
       "       [9.0000e+03, 1.1905e+02, 1.4000e+00, ..., 1.8600e+01, 3.6600e+01,\n",
       "        1.2330e+01],\n",
       "       [3.1700e+05, 1.5136e+02, 2.0000e+00, ..., 3.7200e+01, 6.6100e+01,\n",
       "        1.1700e+01],\n",
       "       ...,\n",
       "       [4.0000e+04, 1.5758e+02, 8.1000e+00, ..., 1.6300e+01, 2.6600e+01,\n",
       "        1.2910e+01],\n",
       "       [1.6000e+04, 2.1231e+02, 9.2000e+00, ..., 1.6200e+01, 1.5600e+01,\n",
       "        1.1430e+01],\n",
       "       [5.1000e+04, 1.0551e+02, 9.0000e-01, ..., 2.0700e+01, 3.1600e+01,\n",
       "        4.9500e+00]])"
      ]
     },
     "execution_count": 32,
     "metadata": {},
     "output_type": "execute_result"
    }
   ],
   "source": [
    "imputer_iterative = IterativeImputer(max_iter = 20, random_state = 42)\n",
    "\n",
    "# ajustamos y tranformamos los datos\n",
    "imputer_iterative_imputado = imputer_iterative.fit_transform(df_copia[[\n",
    "    'armedforcessize', \n",
    "    'cpi', \n",
    "    'cpichange', \n",
    "    'gasolineprice', \n",
    "    'grosstertiaryeducationenrollment', \n",
    "    'maternalmortalityratio', \n",
    "    'minimumwage', \n",
    "    'populationlaborforceparticipation', \n",
    "    'taxrevenue', \n",
    "    'totaltaxrate', \n",
    "    'unemploymentrate'\n",
    "]])\n",
    "\n",
    "# comprobamos que es lo que nos devuelve, que en este caso es un array también\n",
    "imputer_iterative_imputado"
   ]
  },
  {
   "cell_type": "code",
   "execution_count": 33,
   "metadata": {},
   "outputs": [],
   "source": [
    "df_copia[['IT_armedforcessize', 'IT_cpi', 'IT_cpichange', 'IT_gasolineprice', 'IT_grosstertiaryeducationenrollment','IT_maternalmortalityratio', \n",
    "          'IT_minimumwage', 'IT_populationlaborforceparticipation', 'IT_taxrevenue','IT_totaltaxrate', 'IT_unemploymentrate']] = imputer_iterative_imputado\n",
    "\n",
    "# comprobamos los nulos\n",
    "#print(f\"Después del 'Iterative' tenemos: \\n{df_copia[['age_iterative', 'pdays_iterative', 'euribor_iterative']].isnull().sum()} nulos\")"
   ]
  },
  {
   "cell_type": "code",
   "execution_count": 26,
   "metadata": {},
   "outputs": [
    {
     "data": {
      "text/html": [
       "<div>\n",
       "<style scoped>\n",
       "    .dataframe tbody tr th:only-of-type {\n",
       "        vertical-align: middle;\n",
       "    }\n",
       "\n",
       "    .dataframe tbody tr th {\n",
       "        vertical-align: top;\n",
       "    }\n",
       "\n",
       "    .dataframe thead th {\n",
       "        text-align: right;\n",
       "    }\n",
       "</style>\n",
       "<table border=\"1\" class=\"dataframe\">\n",
       "  <thead>\n",
       "    <tr style=\"text-align: right;\">\n",
       "      <th></th>\n",
       "      <th>country</th>\n",
       "      <th>density</th>\n",
       "      <th>abbreviation</th>\n",
       "      <th>agriculturalland</th>\n",
       "      <th>landarea</th>\n",
       "      <th>armedforcessize</th>\n",
       "      <th>birthrate</th>\n",
       "      <th>callingcode</th>\n",
       "      <th>capital/majorcity</th>\n",
       "      <th>co2-emissions</th>\n",
       "      <th>cpi</th>\n",
       "      <th>cpichange</th>\n",
       "      <th>currency-code</th>\n",
       "      <th>fertilityrate</th>\n",
       "      <th>forestedarea</th>\n",
       "      <th>gasolineprice</th>\n",
       "      <th>gdp</th>\n",
       "      <th>grossprimaryeducationenrollment</th>\n",
       "      <th>grosstertiaryeducationenrollment</th>\n",
       "      <th>infantmortality</th>\n",
       "      <th>largestcity</th>\n",
       "      <th>lifeexpectancy</th>\n",
       "      <th>maternalmortalityratio</th>\n",
       "      <th>minimumwage</th>\n",
       "      <th>officiallanguage</th>\n",
       "      <th>outofpockethealthexpenditure</th>\n",
       "      <th>physiciansperthousand</th>\n",
       "      <th>population</th>\n",
       "      <th>populationlaborforceparticipation</th>\n",
       "      <th>taxrevenue</th>\n",
       "      <th>totaltaxrate</th>\n",
       "      <th>unemploymentrate</th>\n",
       "      <th>urban_population</th>\n",
       "      <th>lattitude</th>\n",
       "      <th>longitude</th>\n",
       "      <th>continente</th>\n",
       "      <th>IT_armedforcessize</th>\n",
       "      <th>IT_cpi</th>\n",
       "      <th>IT_cpichange</th>\n",
       "      <th>IT_gasolineprice</th>\n",
       "      <th>IT_grosstertiaryeducationenrollment</th>\n",
       "      <th>IT_maternalmortalityratio</th>\n",
       "      <th>IT_minimumwage</th>\n",
       "      <th>IT_populationlaborforceparticipation</th>\n",
       "      <th>IT_taxrevenue</th>\n",
       "      <th>IT_totaltaxrate</th>\n",
       "      <th>IT_unemploymentrate</th>\n",
       "    </tr>\n",
       "  </thead>\n",
       "  <tbody>\n",
       "    <tr>\n",
       "      <th>0</th>\n",
       "      <td>Afghanistan</td>\n",
       "      <td>60.0</td>\n",
       "      <td>AF</td>\n",
       "      <td>58.1</td>\n",
       "      <td>652230.0</td>\n",
       "      <td>323000.0</td>\n",
       "      <td>32.49</td>\n",
       "      <td>93.0</td>\n",
       "      <td>Kabul</td>\n",
       "      <td>8672.0</td>\n",
       "      <td>149.90</td>\n",
       "      <td>2.3</td>\n",
       "      <td>AFN</td>\n",
       "      <td>4.47</td>\n",
       "      <td>2.1</td>\n",
       "      <td>0.70</td>\n",
       "      <td>1.910135e+10</td>\n",
       "      <td>104.0</td>\n",
       "      <td>9.7</td>\n",
       "      <td>47.9</td>\n",
       "      <td>Kabul</td>\n",
       "      <td>64.5</td>\n",
       "      <td>638.0</td>\n",
       "      <td>0.43</td>\n",
       "      <td>Pashto</td>\n",
       "      <td>78.4</td>\n",
       "      <td>0.28</td>\n",
       "      <td>38041754.0</td>\n",
       "      <td>48.9</td>\n",
       "      <td>9.3</td>\n",
       "      <td>71.4</td>\n",
       "      <td>11.12</td>\n",
       "      <td>9797273.0</td>\n",
       "      <td>33.939110</td>\n",
       "      <td>67.709953</td>\n",
       "      <td>Asia</td>\n",
       "      <td>323000.0</td>\n",
       "      <td>149.90</td>\n",
       "      <td>2.3</td>\n",
       "      <td>0.70</td>\n",
       "      <td>9.7</td>\n",
       "      <td>638.0</td>\n",
       "      <td>0.43</td>\n",
       "      <td>48.9</td>\n",
       "      <td>9.3</td>\n",
       "      <td>71.4</td>\n",
       "      <td>11.12</td>\n",
       "    </tr>\n",
       "    <tr>\n",
       "      <th>1</th>\n",
       "      <td>Albania</td>\n",
       "      <td>105.0</td>\n",
       "      <td>AL</td>\n",
       "      <td>43.1</td>\n",
       "      <td>28748.0</td>\n",
       "      <td>9000.0</td>\n",
       "      <td>11.78</td>\n",
       "      <td>355.0</td>\n",
       "      <td>Tirana</td>\n",
       "      <td>4536.0</td>\n",
       "      <td>119.05</td>\n",
       "      <td>1.4</td>\n",
       "      <td>ALL</td>\n",
       "      <td>1.62</td>\n",
       "      <td>28.1</td>\n",
       "      <td>1.36</td>\n",
       "      <td>1.527808e+10</td>\n",
       "      <td>107.0</td>\n",
       "      <td>55.0</td>\n",
       "      <td>7.8</td>\n",
       "      <td>Tirana</td>\n",
       "      <td>78.5</td>\n",
       "      <td>15.0</td>\n",
       "      <td>1.12</td>\n",
       "      <td>Albanian</td>\n",
       "      <td>56.9</td>\n",
       "      <td>1.20</td>\n",
       "      <td>2854191.0</td>\n",
       "      <td>55.7</td>\n",
       "      <td>18.6</td>\n",
       "      <td>36.6</td>\n",
       "      <td>12.33</td>\n",
       "      <td>1747593.0</td>\n",
       "      <td>41.153332</td>\n",
       "      <td>20.168331</td>\n",
       "      <td>Europa</td>\n",
       "      <td>9000.0</td>\n",
       "      <td>119.05</td>\n",
       "      <td>1.4</td>\n",
       "      <td>1.36</td>\n",
       "      <td>55.0</td>\n",
       "      <td>15.0</td>\n",
       "      <td>1.12</td>\n",
       "      <td>55.7</td>\n",
       "      <td>18.6</td>\n",
       "      <td>36.6</td>\n",
       "      <td>12.33</td>\n",
       "    </tr>\n",
       "  </tbody>\n",
       "</table>\n",
       "</div>"
      ],
      "text/plain": [
       "       country  density abbreviation  agriculturalland  landarea  \\\n",
       "0  Afghanistan     60.0           AF              58.1  652230.0   \n",
       "1      Albania    105.0           AL              43.1   28748.0   \n",
       "\n",
       "   armedforcessize  birthrate  callingcode capital/majorcity  co2-emissions  \\\n",
       "0         323000.0      32.49         93.0             Kabul         8672.0   \n",
       "1           9000.0      11.78        355.0            Tirana         4536.0   \n",
       "\n",
       "      cpi  cpichange currency-code  fertilityrate  forestedarea  \\\n",
       "0  149.90        2.3           AFN           4.47           2.1   \n",
       "1  119.05        1.4           ALL           1.62          28.1   \n",
       "\n",
       "   gasolineprice           gdp  grossprimaryeducationenrollment  \\\n",
       "0           0.70  1.910135e+10                            104.0   \n",
       "1           1.36  1.527808e+10                            107.0   \n",
       "\n",
       "   grosstertiaryeducationenrollment  infantmortality largestcity  \\\n",
       "0                               9.7             47.9       Kabul   \n",
       "1                              55.0              7.8      Tirana   \n",
       "\n",
       "   lifeexpectancy  maternalmortalityratio  minimumwage officiallanguage  \\\n",
       "0            64.5                   638.0         0.43           Pashto   \n",
       "1            78.5                    15.0         1.12         Albanian   \n",
       "\n",
       "   outofpockethealthexpenditure  physiciansperthousand  population  \\\n",
       "0                          78.4                   0.28  38041754.0   \n",
       "1                          56.9                   1.20   2854191.0   \n",
       "\n",
       "   populationlaborforceparticipation  taxrevenue  totaltaxrate  \\\n",
       "0                               48.9         9.3          71.4   \n",
       "1                               55.7        18.6          36.6   \n",
       "\n",
       "   unemploymentrate  urban_population  lattitude  longitude continente  \\\n",
       "0             11.12         9797273.0  33.939110  67.709953       Asia   \n",
       "1             12.33         1747593.0  41.153332  20.168331     Europa   \n",
       "\n",
       "   IT_armedforcessize  IT_cpi  IT_cpichange  IT_gasolineprice  \\\n",
       "0            323000.0  149.90           2.3              0.70   \n",
       "1              9000.0  119.05           1.4              1.36   \n",
       "\n",
       "   IT_grosstertiaryeducationenrollment  IT_maternalmortalityratio  \\\n",
       "0                                  9.7                      638.0   \n",
       "1                                 55.0                       15.0   \n",
       "\n",
       "   IT_minimumwage  IT_populationlaborforceparticipation  IT_taxrevenue  \\\n",
       "0            0.43                                  48.9            9.3   \n",
       "1            1.12                                  55.7           18.6   \n",
       "\n",
       "   IT_totaltaxrate  IT_unemploymentrate  \n",
       "0             71.4                11.12  \n",
       "1             36.6                12.33  "
      ]
     },
     "execution_count": 26,
     "metadata": {},
     "output_type": "execute_result"
    }
   ],
   "source": [
    "df_copia.head(2)"
   ]
  },
  {
   "cell_type": "markdown",
   "metadata": {},
   "source": [
    "- método KNN"
   ]
  },
  {
   "cell_type": "code",
   "execution_count": null,
   "metadata": {},
   "outputs": [],
   "source": [
    "\n",
    "imputer_knn = KNNImputer(n_neighbors = 5)\n",
    "\n",
    "\n",
    "imputer_knn_imputado = imputer_knn.fit_transform(df_copia[[\n",
    "    'armedforcessize', \n",
    "    'cpi', \n",
    "    'cpichange', \n",
    "    'gasolineprice', \n",
    "    'grosstertiaryeducationenrollment', \n",
    "    'maternalmortalityratio', \n",
    "    'minimumwage', \n",
    "    'populationlaborforceparticipation', \n",
    "    'taxrevenue', \n",
    "    'totaltaxrate', \n",
    "    'unemploymentrate'\n",
    "]])\n",
    "\n",
    "\n",
    "imputer_knn_imputado"
   ]
  },
  {
   "cell_type": "code",
   "execution_count": 28,
   "metadata": {},
   "outputs": [],
   "source": [
    "df_copia[['KN_armedforcessize', 'KN_cpi', 'KN_cpichange', 'KN_gasolineprice', 'KN_grosstertiaryeducationenrollment','KN_maternalmortalityratio', \n",
    "          'KN_minimumwage', 'KN_populationlaborforceparticipation', 'KN_taxrevenue','KN_totaltaxrate', 'KN_unemploymentrate']] = imputer_knn_imputado\n",
    "\n",
    "\n",
    "# comprobamos los nulos\n",
    "#print(f\"Después del 'KNN' tenemos: \\n{df_copia[['age_knn', 'pdays_knn', 'euribor_knn']].isnull().sum()} nulos\")"
   ]
  },
  {
   "cell_type": "code",
   "execution_count": 29,
   "metadata": {},
   "outputs": [
    {
     "data": {
      "text/html": [
       "<div>\n",
       "<style scoped>\n",
       "    .dataframe tbody tr th:only-of-type {\n",
       "        vertical-align: middle;\n",
       "    }\n",
       "\n",
       "    .dataframe tbody tr th {\n",
       "        vertical-align: top;\n",
       "    }\n",
       "\n",
       "    .dataframe thead th {\n",
       "        text-align: right;\n",
       "    }\n",
       "</style>\n",
       "<table border=\"1\" class=\"dataframe\">\n",
       "  <thead>\n",
       "    <tr style=\"text-align: right;\">\n",
       "      <th></th>\n",
       "      <th>country</th>\n",
       "      <th>density</th>\n",
       "      <th>abbreviation</th>\n",
       "      <th>agriculturalland</th>\n",
       "      <th>landarea</th>\n",
       "      <th>armedforcessize</th>\n",
       "      <th>birthrate</th>\n",
       "      <th>callingcode</th>\n",
       "      <th>capital/majorcity</th>\n",
       "      <th>co2-emissions</th>\n",
       "      <th>cpi</th>\n",
       "      <th>cpichange</th>\n",
       "      <th>currency-code</th>\n",
       "      <th>fertilityrate</th>\n",
       "      <th>forestedarea</th>\n",
       "      <th>gasolineprice</th>\n",
       "      <th>gdp</th>\n",
       "      <th>grossprimaryeducationenrollment</th>\n",
       "      <th>grosstertiaryeducationenrollment</th>\n",
       "      <th>infantmortality</th>\n",
       "      <th>largestcity</th>\n",
       "      <th>lifeexpectancy</th>\n",
       "      <th>maternalmortalityratio</th>\n",
       "      <th>minimumwage</th>\n",
       "      <th>officiallanguage</th>\n",
       "      <th>outofpockethealthexpenditure</th>\n",
       "      <th>physiciansperthousand</th>\n",
       "      <th>population</th>\n",
       "      <th>populationlaborforceparticipation</th>\n",
       "      <th>taxrevenue</th>\n",
       "      <th>totaltaxrate</th>\n",
       "      <th>unemploymentrate</th>\n",
       "      <th>urban_population</th>\n",
       "      <th>lattitude</th>\n",
       "      <th>longitude</th>\n",
       "      <th>continente</th>\n",
       "      <th>IT_armedforcessize</th>\n",
       "      <th>IT_cpi</th>\n",
       "      <th>IT_cpichange</th>\n",
       "      <th>IT_gasolineprice</th>\n",
       "      <th>IT_grosstertiaryeducationenrollment</th>\n",
       "      <th>IT_maternalmortalityratio</th>\n",
       "      <th>IT_minimumwage</th>\n",
       "      <th>IT_populationlaborforceparticipation</th>\n",
       "      <th>IT_taxrevenue</th>\n",
       "      <th>IT_totaltaxrate</th>\n",
       "      <th>IT_unemploymentrate</th>\n",
       "      <th>KN_armedforcessize</th>\n",
       "      <th>KN_cpi</th>\n",
       "      <th>KN_cpichange</th>\n",
       "      <th>KN_gasolineprice</th>\n",
       "      <th>KN_grosstertiaryeducationenrollment</th>\n",
       "      <th>KN_maternalmortalityratio</th>\n",
       "      <th>KN_minimumwage</th>\n",
       "      <th>KN_populationlaborforceparticipation</th>\n",
       "      <th>KN_taxrevenue</th>\n",
       "      <th>KN_totaltaxrate</th>\n",
       "      <th>KN_unemploymentrate</th>\n",
       "    </tr>\n",
       "  </thead>\n",
       "  <tbody>\n",
       "    <tr>\n",
       "      <th>0</th>\n",
       "      <td>Afghanistan</td>\n",
       "      <td>60.0</td>\n",
       "      <td>AF</td>\n",
       "      <td>58.1</td>\n",
       "      <td>652230.0</td>\n",
       "      <td>323000.0</td>\n",
       "      <td>32.49</td>\n",
       "      <td>93.0</td>\n",
       "      <td>Kabul</td>\n",
       "      <td>8672.0</td>\n",
       "      <td>149.90</td>\n",
       "      <td>2.3</td>\n",
       "      <td>AFN</td>\n",
       "      <td>4.47</td>\n",
       "      <td>2.1</td>\n",
       "      <td>0.70</td>\n",
       "      <td>1.910135e+10</td>\n",
       "      <td>104.0</td>\n",
       "      <td>9.7</td>\n",
       "      <td>47.9</td>\n",
       "      <td>Kabul</td>\n",
       "      <td>64.5</td>\n",
       "      <td>638.0</td>\n",
       "      <td>0.43</td>\n",
       "      <td>Pashto</td>\n",
       "      <td>78.4</td>\n",
       "      <td>0.28</td>\n",
       "      <td>38041754.0</td>\n",
       "      <td>48.9</td>\n",
       "      <td>9.3</td>\n",
       "      <td>71.4</td>\n",
       "      <td>11.12</td>\n",
       "      <td>9797273.0</td>\n",
       "      <td>33.939110</td>\n",
       "      <td>67.709953</td>\n",
       "      <td>Asia</td>\n",
       "      <td>323000.0</td>\n",
       "      <td>149.90</td>\n",
       "      <td>2.3</td>\n",
       "      <td>0.70</td>\n",
       "      <td>9.7</td>\n",
       "      <td>638.0</td>\n",
       "      <td>0.43</td>\n",
       "      <td>48.9</td>\n",
       "      <td>9.3</td>\n",
       "      <td>71.4</td>\n",
       "      <td>11.12</td>\n",
       "      <td>323000.0</td>\n",
       "      <td>149.90</td>\n",
       "      <td>2.3</td>\n",
       "      <td>0.70</td>\n",
       "      <td>9.7</td>\n",
       "      <td>638.0</td>\n",
       "      <td>0.43</td>\n",
       "      <td>48.9</td>\n",
       "      <td>9.3</td>\n",
       "      <td>71.4</td>\n",
       "      <td>11.12</td>\n",
       "    </tr>\n",
       "    <tr>\n",
       "      <th>1</th>\n",
       "      <td>Albania</td>\n",
       "      <td>105.0</td>\n",
       "      <td>AL</td>\n",
       "      <td>43.1</td>\n",
       "      <td>28748.0</td>\n",
       "      <td>9000.0</td>\n",
       "      <td>11.78</td>\n",
       "      <td>355.0</td>\n",
       "      <td>Tirana</td>\n",
       "      <td>4536.0</td>\n",
       "      <td>119.05</td>\n",
       "      <td>1.4</td>\n",
       "      <td>ALL</td>\n",
       "      <td>1.62</td>\n",
       "      <td>28.1</td>\n",
       "      <td>1.36</td>\n",
       "      <td>1.527808e+10</td>\n",
       "      <td>107.0</td>\n",
       "      <td>55.0</td>\n",
       "      <td>7.8</td>\n",
       "      <td>Tirana</td>\n",
       "      <td>78.5</td>\n",
       "      <td>15.0</td>\n",
       "      <td>1.12</td>\n",
       "      <td>Albanian</td>\n",
       "      <td>56.9</td>\n",
       "      <td>1.20</td>\n",
       "      <td>2854191.0</td>\n",
       "      <td>55.7</td>\n",
       "      <td>18.6</td>\n",
       "      <td>36.6</td>\n",
       "      <td>12.33</td>\n",
       "      <td>1747593.0</td>\n",
       "      <td>41.153332</td>\n",
       "      <td>20.168331</td>\n",
       "      <td>Europa</td>\n",
       "      <td>9000.0</td>\n",
       "      <td>119.05</td>\n",
       "      <td>1.4</td>\n",
       "      <td>1.36</td>\n",
       "      <td>55.0</td>\n",
       "      <td>15.0</td>\n",
       "      <td>1.12</td>\n",
       "      <td>55.7</td>\n",
       "      <td>18.6</td>\n",
       "      <td>36.6</td>\n",
       "      <td>12.33</td>\n",
       "      <td>9000.0</td>\n",
       "      <td>119.05</td>\n",
       "      <td>1.4</td>\n",
       "      <td>1.36</td>\n",
       "      <td>55.0</td>\n",
       "      <td>15.0</td>\n",
       "      <td>1.12</td>\n",
       "      <td>55.7</td>\n",
       "      <td>18.6</td>\n",
       "      <td>36.6</td>\n",
       "      <td>12.33</td>\n",
       "    </tr>\n",
       "  </tbody>\n",
       "</table>\n",
       "</div>"
      ],
      "text/plain": [
       "       country  density abbreviation  agriculturalland  landarea  \\\n",
       "0  Afghanistan     60.0           AF              58.1  652230.0   \n",
       "1      Albania    105.0           AL              43.1   28748.0   \n",
       "\n",
       "   armedforcessize  birthrate  callingcode capital/majorcity  co2-emissions  \\\n",
       "0         323000.0      32.49         93.0             Kabul         8672.0   \n",
       "1           9000.0      11.78        355.0            Tirana         4536.0   \n",
       "\n",
       "      cpi  cpichange currency-code  fertilityrate  forestedarea  \\\n",
       "0  149.90        2.3           AFN           4.47           2.1   \n",
       "1  119.05        1.4           ALL           1.62          28.1   \n",
       "\n",
       "   gasolineprice           gdp  grossprimaryeducationenrollment  \\\n",
       "0           0.70  1.910135e+10                            104.0   \n",
       "1           1.36  1.527808e+10                            107.0   \n",
       "\n",
       "   grosstertiaryeducationenrollment  infantmortality largestcity  \\\n",
       "0                               9.7             47.9       Kabul   \n",
       "1                              55.0              7.8      Tirana   \n",
       "\n",
       "   lifeexpectancy  maternalmortalityratio  minimumwage officiallanguage  \\\n",
       "0            64.5                   638.0         0.43           Pashto   \n",
       "1            78.5                    15.0         1.12         Albanian   \n",
       "\n",
       "   outofpockethealthexpenditure  physiciansperthousand  population  \\\n",
       "0                          78.4                   0.28  38041754.0   \n",
       "1                          56.9                   1.20   2854191.0   \n",
       "\n",
       "   populationlaborforceparticipation  taxrevenue  totaltaxrate  \\\n",
       "0                               48.9         9.3          71.4   \n",
       "1                               55.7        18.6          36.6   \n",
       "\n",
       "   unemploymentrate  urban_population  lattitude  longitude continente  \\\n",
       "0             11.12         9797273.0  33.939110  67.709953       Asia   \n",
       "1             12.33         1747593.0  41.153332  20.168331     Europa   \n",
       "\n",
       "   IT_armedforcessize  IT_cpi  IT_cpichange  IT_gasolineprice  \\\n",
       "0            323000.0  149.90           2.3              0.70   \n",
       "1              9000.0  119.05           1.4              1.36   \n",
       "\n",
       "   IT_grosstertiaryeducationenrollment  IT_maternalmortalityratio  \\\n",
       "0                                  9.7                      638.0   \n",
       "1                                 55.0                       15.0   \n",
       "\n",
       "   IT_minimumwage  IT_populationlaborforceparticipation  IT_taxrevenue  \\\n",
       "0            0.43                                  48.9            9.3   \n",
       "1            1.12                                  55.7           18.6   \n",
       "\n",
       "   IT_totaltaxrate  IT_unemploymentrate  KN_armedforcessize  KN_cpi  \\\n",
       "0             71.4                11.12            323000.0  149.90   \n",
       "1             36.6                12.33              9000.0  119.05   \n",
       "\n",
       "   KN_cpichange  KN_gasolineprice  KN_grosstertiaryeducationenrollment  \\\n",
       "0           2.3              0.70                                  9.7   \n",
       "1           1.4              1.36                                 55.0   \n",
       "\n",
       "   KN_maternalmortalityratio  KN_minimumwage  \\\n",
       "0                      638.0            0.43   \n",
       "1                       15.0            1.12   \n",
       "\n",
       "   KN_populationlaborforceparticipation  KN_taxrevenue  KN_totaltaxrate  \\\n",
       "0                                  48.9            9.3             71.4   \n",
       "1                                  55.7           18.6             36.6   \n",
       "\n",
       "   KN_unemploymentrate  \n",
       "0                11.12  \n",
       "1                12.33  "
      ]
     },
     "execution_count": 29,
     "metadata": {},
     "output_type": "execute_result"
    }
   ],
   "source": [
    "df_copia.head(2)"
   ]
  },
  {
   "cell_type": "code",
   "execution_count": 34,
   "metadata": {},
   "outputs": [
    {
     "data": {
      "text/html": [
       "<div>\n",
       "<style scoped>\n",
       "    .dataframe tbody tr th:only-of-type {\n",
       "        vertical-align: middle;\n",
       "    }\n",
       "\n",
       "    .dataframe tbody tr th {\n",
       "        vertical-align: top;\n",
       "    }\n",
       "\n",
       "    .dataframe thead th {\n",
       "        text-align: right;\n",
       "    }\n",
       "</style>\n",
       "<table border=\"1\" class=\"dataframe\">\n",
       "  <thead>\n",
       "    <tr style=\"text-align: right;\">\n",
       "      <th></th>\n",
       "      <th>armedforcessize</th>\n",
       "      <th>IT_armedforcessize</th>\n",
       "      <th>KN_armedforcessize</th>\n",
       "    </tr>\n",
       "  </thead>\n",
       "  <tbody>\n",
       "    <tr>\n",
       "      <th>count</th>\n",
       "      <td>1.950000e+02</td>\n",
       "      <td>1.950000e+02</td>\n",
       "      <td>1.950000e+02</td>\n",
       "    </tr>\n",
       "    <tr>\n",
       "      <th>mean</th>\n",
       "      <td>1.434872e+05</td>\n",
       "      <td>1.434872e+05</td>\n",
       "      <td>1.434872e+05</td>\n",
       "    </tr>\n",
       "    <tr>\n",
       "      <th>std</th>\n",
       "      <td>3.588039e+05</td>\n",
       "      <td>3.588039e+05</td>\n",
       "      <td>3.588039e+05</td>\n",
       "    </tr>\n",
       "    <tr>\n",
       "      <th>min</th>\n",
       "      <td>0.000000e+00</td>\n",
       "      <td>0.000000e+00</td>\n",
       "      <td>0.000000e+00</td>\n",
       "    </tr>\n",
       "    <tr>\n",
       "      <th>25%</th>\n",
       "      <td>1.250000e+04</td>\n",
       "      <td>1.250000e+04</td>\n",
       "      <td>1.250000e+04</td>\n",
       "    </tr>\n",
       "    <tr>\n",
       "      <th>50%</th>\n",
       "      <td>3.100000e+04</td>\n",
       "      <td>3.100000e+04</td>\n",
       "      <td>3.100000e+04</td>\n",
       "    </tr>\n",
       "    <tr>\n",
       "      <th>75%</th>\n",
       "      <td>1.230000e+05</td>\n",
       "      <td>1.230000e+05</td>\n",
       "      <td>1.230000e+05</td>\n",
       "    </tr>\n",
       "    <tr>\n",
       "      <th>max</th>\n",
       "      <td>3.031000e+06</td>\n",
       "      <td>3.031000e+06</td>\n",
       "      <td>3.031000e+06</td>\n",
       "    </tr>\n",
       "  </tbody>\n",
       "</table>\n",
       "</div>"
      ],
      "text/plain": [
       "       armedforcessize  IT_armedforcessize  KN_armedforcessize\n",
       "count     1.950000e+02        1.950000e+02        1.950000e+02\n",
       "mean      1.434872e+05        1.434872e+05        1.434872e+05\n",
       "std       3.588039e+05        3.588039e+05        3.588039e+05\n",
       "min       0.000000e+00        0.000000e+00        0.000000e+00\n",
       "25%       1.250000e+04        1.250000e+04        1.250000e+04\n",
       "50%       3.100000e+04        3.100000e+04        3.100000e+04\n",
       "75%       1.230000e+05        1.230000e+05        1.230000e+05\n",
       "max       3.031000e+06        3.031000e+06        3.031000e+06"
      ]
     },
     "execution_count": 34,
     "metadata": {},
     "output_type": "execute_result"
    }
   ],
   "source": [
    "df_copia.describe()[[\"armedforcessize\", \"IT_armedforcessize\",\"KN_armedforcessize\"]]"
   ]
  },
  {
   "cell_type": "code",
   "execution_count": 35,
   "metadata": {},
   "outputs": [
    {
     "data": {
      "text/html": [
       "<div>\n",
       "<style scoped>\n",
       "    .dataframe tbody tr th:only-of-type {\n",
       "        vertical-align: middle;\n",
       "    }\n",
       "\n",
       "    .dataframe tbody tr th {\n",
       "        vertical-align: top;\n",
       "    }\n",
       "\n",
       "    .dataframe thead th {\n",
       "        text-align: right;\n",
       "    }\n",
       "</style>\n",
       "<table border=\"1\" class=\"dataframe\">\n",
       "  <thead>\n",
       "    <tr style=\"text-align: right;\">\n",
       "      <th></th>\n",
       "      <th>cpi</th>\n",
       "      <th>IT_cpi</th>\n",
       "      <th>KN_cpi</th>\n",
       "    </tr>\n",
       "  </thead>\n",
       "  <tbody>\n",
       "    <tr>\n",
       "      <th>count</th>\n",
       "      <td>195.000000</td>\n",
       "      <td>195.000000</td>\n",
       "      <td>195.000000</td>\n",
       "    </tr>\n",
       "    <tr>\n",
       "      <th>mean</th>\n",
       "      <td>184.783744</td>\n",
       "      <td>184.783744</td>\n",
       "      <td>184.783744</td>\n",
       "    </tr>\n",
       "    <tr>\n",
       "      <th>std</th>\n",
       "      <td>380.557800</td>\n",
       "      <td>380.557800</td>\n",
       "      <td>380.557800</td>\n",
       "    </tr>\n",
       "    <tr>\n",
       "      <th>min</th>\n",
       "      <td>99.030000</td>\n",
       "      <td>99.030000</td>\n",
       "      <td>99.030000</td>\n",
       "    </tr>\n",
       "    <tr>\n",
       "      <th>25%</th>\n",
       "      <td>114.470000</td>\n",
       "      <td>114.470000</td>\n",
       "      <td>114.470000</td>\n",
       "    </tr>\n",
       "    <tr>\n",
       "      <th>50%</th>\n",
       "      <td>125.340000</td>\n",
       "      <td>125.340000</td>\n",
       "      <td>125.340000</td>\n",
       "    </tr>\n",
       "    <tr>\n",
       "      <th>75%</th>\n",
       "      <td>155.605000</td>\n",
       "      <td>155.605000</td>\n",
       "      <td>155.605000</td>\n",
       "    </tr>\n",
       "    <tr>\n",
       "      <th>max</th>\n",
       "      <td>4583.710000</td>\n",
       "      <td>4583.710000</td>\n",
       "      <td>4583.710000</td>\n",
       "    </tr>\n",
       "  </tbody>\n",
       "</table>\n",
       "</div>"
      ],
      "text/plain": [
       "               cpi       IT_cpi       KN_cpi\n",
       "count   195.000000   195.000000   195.000000\n",
       "mean    184.783744   184.783744   184.783744\n",
       "std     380.557800   380.557800   380.557800\n",
       "min      99.030000    99.030000    99.030000\n",
       "25%     114.470000   114.470000   114.470000\n",
       "50%     125.340000   125.340000   125.340000\n",
       "75%     155.605000   155.605000   155.605000\n",
       "max    4583.710000  4583.710000  4583.710000"
      ]
     },
     "execution_count": 35,
     "metadata": {},
     "output_type": "execute_result"
    }
   ],
   "source": [
    "df_copia.describe()[[\"cpi\", \"IT_cpi\",\"KN_cpi\"]]"
   ]
  },
  {
   "cell_type": "code",
   "execution_count": 36,
   "metadata": {},
   "outputs": [
    {
     "data": {
      "text/html": [
       "<div>\n",
       "<style scoped>\n",
       "    .dataframe tbody tr th:only-of-type {\n",
       "        vertical-align: middle;\n",
       "    }\n",
       "\n",
       "    .dataframe tbody tr th {\n",
       "        vertical-align: top;\n",
       "    }\n",
       "\n",
       "    .dataframe thead th {\n",
       "        text-align: right;\n",
       "    }\n",
       "</style>\n",
       "<table border=\"1\" class=\"dataframe\">\n",
       "  <thead>\n",
       "    <tr style=\"text-align: right;\">\n",
       "      <th></th>\n",
       "      <th>minimumwage</th>\n",
       "      <th>IT_minimumwage</th>\n",
       "      <th>KN_minimumwage</th>\n",
       "    </tr>\n",
       "  </thead>\n",
       "  <tbody>\n",
       "    <tr>\n",
       "      <th>count</th>\n",
       "      <td>195.000000</td>\n",
       "      <td>195.000000</td>\n",
       "      <td>195.000000</td>\n",
       "    </tr>\n",
       "    <tr>\n",
       "      <th>mean</th>\n",
       "      <td>1.928949</td>\n",
       "      <td>1.928949</td>\n",
       "      <td>1.928949</td>\n",
       "    </tr>\n",
       "    <tr>\n",
       "      <th>std</th>\n",
       "      <td>2.648408</td>\n",
       "      <td>2.648408</td>\n",
       "      <td>2.648408</td>\n",
       "    </tr>\n",
       "    <tr>\n",
       "      <th>min</th>\n",
       "      <td>0.010000</td>\n",
       "      <td>0.010000</td>\n",
       "      <td>0.010000</td>\n",
       "    </tr>\n",
       "    <tr>\n",
       "      <th>25%</th>\n",
       "      <td>0.530000</td>\n",
       "      <td>0.530000</td>\n",
       "      <td>0.530000</td>\n",
       "    </tr>\n",
       "    <tr>\n",
       "      <th>50%</th>\n",
       "      <td>1.045000</td>\n",
       "      <td>1.045000</td>\n",
       "      <td>1.045000</td>\n",
       "    </tr>\n",
       "    <tr>\n",
       "      <th>75%</th>\n",
       "      <td>1.625000</td>\n",
       "      <td>1.625000</td>\n",
       "      <td>1.625000</td>\n",
       "    </tr>\n",
       "    <tr>\n",
       "      <th>max</th>\n",
       "      <td>13.590000</td>\n",
       "      <td>13.590000</td>\n",
       "      <td>13.590000</td>\n",
       "    </tr>\n",
       "  </tbody>\n",
       "</table>\n",
       "</div>"
      ],
      "text/plain": [
       "       minimumwage  IT_minimumwage  KN_minimumwage\n",
       "count   195.000000      195.000000      195.000000\n",
       "mean      1.928949        1.928949        1.928949\n",
       "std       2.648408        2.648408        2.648408\n",
       "min       0.010000        0.010000        0.010000\n",
       "25%       0.530000        0.530000        0.530000\n",
       "50%       1.045000        1.045000        1.045000\n",
       "75%       1.625000        1.625000        1.625000\n",
       "max      13.590000       13.590000       13.590000"
      ]
     },
     "execution_count": 36,
     "metadata": {},
     "output_type": "execute_result"
    }
   ],
   "source": [
    "\n",
    "df_copia.describe()[[\"minimumwage\", \"IT_minimumwage\",\"KN_minimumwage\"]]"
   ]
  },
  {
   "cell_type": "markdown",
   "metadata": {},
   "source": [
    "# Pasos seguidos y Decisiones tomadas: \n",
    "1. Revisión del listado de columnas y cuales de ellos tienen valores nulos (en %)\n",
    "2. División entre aquellas columnas categóricas y numéricas\n",
    "\n",
    "        - Variables categóricas: \n",
    "        \n",
    "1. Hemos revisado la distribución de los valores de cada columna, para determinar el criterio de limpieza. Los pasos han sido: \n",
    "\n",
    "*Categoría \"Unkown\":* \n",
    "- Para la variable currency-code añadimos desconocido ya que no hay una valor predominante. hay 11% de EUR seguido de 4% XOF y 3% USD. (la cantidad de nulos de esa variable es un 7,6%)\n",
    "- abbreviation: Desconocido. no tenemos un patrón claro. \n",
    "- capital: desconocido, igual que para la variable anterior.  \n",
    "- LARGESTCITY desconocido (es el nombre de la ciudad más grande de ese país)\n",
    "\n",
    "*Categoría \"Reasignación de valor\":*\n",
    "- official language: 15% english, 12% french, (...) imputamos english al ser solo un 2,5% de nulos.\n",
    "\n",
    "        - Variables numéricas:\n",
    "\n",
    "1. Hemos revisado el porcentaje de nulos para todas las variables numéricas: \n",
    "2. Hemos divido dos grupos: las que tienen menos de un  5% de nulos VS las que tienen un 5% o más. \n",
    "3. Del primer grupo (menos de 5%): \n",
    "    - Chequeamos los valores de mediana vs media para determinar cual escoger. \n",
    "    - Hemos tomado la mediana para aquellas variables que tienen una desviación importante entre los dos valores. \n",
    "    - Aquellas variables que no tienen gran diferencia entre ambos valores, también hemos optado por la mediana, respetando así la homogeneización de criterios. \n",
    "\n",
    "4. Las columnas con un total de nulos mayor a 5%, hemos revisado ambos métodos: Iterative y KNN: \n",
    "\n",
    "    - Vemos que ambos métodos nos devuelven unos resultados iguales, por los que optamos el KNN, al tener un nivel de precisión más elevado (revisando los datos más similares).\n",
    "        "
   ]
  }
 ],
 "metadata": {
  "kernelspec": {
   "display_name": "base",
   "language": "python",
   "name": "python3"
  },
  "language_info": {
   "codemirror_mode": {
    "name": "ipython",
    "version": 3
   },
   "file_extension": ".py",
   "mimetype": "text/x-python",
   "name": "python",
   "nbconvert_exporter": "python",
   "pygments_lexer": "ipython3",
   "version": "3.11.5"
  },
  "orig_nbformat": 4
 },
 "nbformat": 4,
 "nbformat_minor": 2
}
