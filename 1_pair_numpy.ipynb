{
 "cells": [
  {
   "cell_type": "markdown",
   "metadata": {},
   "source": [
    "Crea un array 1D con 50 valores aleatorio del 10 al 99. Accede a los elementos en las posiciones múltiplos de 5."
   ]
  },
  {
   "cell_type": "code",
   "execution_count": 2,
   "metadata": {},
   "outputs": [],
   "source": [
    "import numpy as np\n",
    "import random"
   ]
  },
  {
   "cell_type": "code",
   "execution_count": 3,
   "metadata": {},
   "outputs": [],
   "source": [
    "array_1 = np.random.randint(10, 100, 50)"
   ]
  },
  {
   "cell_type": "code",
   "execution_count": 7,
   "metadata": {},
   "outputs": [
    {
     "data": {
      "text/plain": [
       "array([40, 67, 51, 24, 72, 49, 41, 44, 84, 74])"
      ]
     },
     "execution_count": 7,
     "metadata": {},
     "output_type": "execute_result"
    }
   ],
   "source": [
    "array_1[::5]"
   ]
  },
  {
   "cell_type": "markdown",
   "metadata": {},
   "source": [
    "Crea un array 1D con 30 valores del 1 al 20 (ambos incluidos). Utiliza indexación para obtener los elementos en las posiciones impares."
   ]
  },
  {
   "cell_type": "code",
   "execution_count": 10,
   "metadata": {},
   "outputs": [],
   "source": [
    "array_2 = np.random.randint(1,21,30)"
   ]
  },
  {
   "cell_type": "code",
   "execution_count": 13,
   "metadata": {},
   "outputs": [
    {
     "data": {
      "text/plain": [
       "array([ 1,  1, 12, 19,  3,  1,  9, 19,  1, 12, 16,  9,  5,  8,  2])"
      ]
     },
     "execution_count": 13,
     "metadata": {},
     "output_type": "execute_result"
    }
   ],
   "source": [
    "array_2[1::2]"
   ]
  },
  {
   "cell_type": "markdown",
   "metadata": {},
   "source": [
    "Crea un array 2D de forma (4, 6) con números aleatorios decimales (no deben estar comprendidos solo entre 0 y 1). Accede a la última fila de la matriz. Los decimales deben estar redondeados a 2 decimales."
   ]
  },
  {
   "cell_type": "code",
   "execution_count": 18,
   "metadata": {},
   "outputs": [],
   "source": [
    "array_3 = np.random.rand(4,6)*20"
   ]
  },
  {
   "cell_type": "code",
   "execution_count": 21,
   "metadata": {},
   "outputs": [
    {
     "data": {
      "text/plain": [
       "array([19.08587588, 17.55266793,  3.79660984,  9.60044916,  6.93160455,\n",
       "        3.75100454])"
      ]
     },
     "execution_count": 21,
     "metadata": {},
     "output_type": "execute_result"
    }
   ],
   "source": [
    "#Accedemos ala ultima fila \n",
    "array_3[-1]\n",
    "array_3[3]"
   ]
  },
  {
   "cell_type": "code",
   "execution_count": 22,
   "metadata": {},
   "outputs": [],
   "source": [
    "array_3 = (np.random.rand(4,6)*20).round(2)"
   ]
  },
  {
   "cell_type": "markdown",
   "metadata": {},
   "source": [
    "Crea un array NumPy 2D de forma (6, 4) con valores decimales entre 0 y 1. Accede a la segunda columna de la matriz. Los números deben estar redondeados a 2 decimales."
   ]
  },
  {
   "cell_type": "code",
   "execution_count": 24,
   "metadata": {},
   "outputs": [],
   "source": [
    "array_4 = np.random.rand(6,4)\n"
   ]
  },
  {
   "cell_type": "code",
   "execution_count": 31,
   "metadata": {},
   "outputs": [
    {
     "data": {
      "text/plain": [
       "array([[0.42394069, 0.17227764, 0.7033087 , 0.73843006],\n",
       "       [0.42966988, 0.02077811, 0.30277678, 0.70863026],\n",
       "       [0.24845327, 0.83272128, 0.33197158, 0.42393269],\n",
       "       [0.93112179, 0.01243616, 0.79964283, 0.92696582],\n",
       "       [0.91638096, 0.54604672, 0.53927859, 0.25237176],\n",
       "       [0.52842344, 0.38249078, 0.37161396, 0.71319457]])"
      ]
     },
     "execution_count": 31,
     "metadata": {},
     "output_type": "execute_result"
    }
   ],
   "source": [
    "array_4 "
   ]
  },
  {
   "cell_type": "code",
   "execution_count": 30,
   "metadata": {},
   "outputs": [
    {
     "data": {
      "text/plain": [
       "array([0.17227764, 0.02077811, 0.83272128, 0.01243616, 0.54604672,\n",
       "       0.38249078])"
      ]
     },
     "execution_count": 30,
     "metadata": {},
     "output_type": "execute_result"
    }
   ],
   "source": [
    "array_4[:,1]"
   ]
  },
  {
   "cell_type": "code",
   "execution_count": 32,
   "metadata": {},
   "outputs": [
    {
     "data": {
      "text/plain": [
       "0.012436156849626179"
      ]
     },
     "execution_count": 32,
     "metadata": {},
     "output_type": "execute_result"
    }
   ],
   "source": [
    "array_4[3,1]"
   ]
  },
  {
   "cell_type": "code",
   "execution_count": 33,
   "metadata": {},
   "outputs": [],
   "source": [
    "array_4 = (np.random.rand(6,4)).round(2)"
   ]
  },
  {
   "cell_type": "markdown",
   "metadata": {},
   "source": [
    "Crea un array 1D con 30 valores enteros aleatorios entre -50 y 50. Extrae los valores negativos."
   ]
  },
  {
   "cell_type": "code",
   "execution_count": 35,
   "metadata": {},
   "outputs": [],
   "source": [
    "array_5 = np.random.randint(-50, 51, 30)"
   ]
  },
  {
   "cell_type": "code",
   "execution_count": 36,
   "metadata": {},
   "outputs": [
    {
     "data": {
      "text/plain": [
       "array([-13, -26,  30,  -9, -25, -40,  19, -12,  19,   2,   3, -39, -48,\n",
       "        35, -11,   8,  28,  -5, -47, -23,  40,   1,   4,  -7,  21,  47,\n",
       "        -5,  21, -15,  29])"
      ]
     },
     "execution_count": 36,
     "metadata": {},
     "output_type": "execute_result"
    }
   ],
   "source": [
    "array_5"
   ]
  },
  {
   "cell_type": "code",
   "execution_count": 46,
   "metadata": {},
   "outputs": [],
   "source": [
    "condicion= array_5 < 0\n"
   ]
  },
  {
   "cell_type": "code",
   "execution_count": 50,
   "metadata": {},
   "outputs": [
    {
     "data": {
      "text/plain": [
       "array([-13, -26,  -9, -25, -40, -12, -39, -48, -11,  -5, -47, -23,  -7,\n",
       "        -5, -15])"
      ]
     },
     "execution_count": 50,
     "metadata": {},
     "output_type": "execute_result"
    }
   ],
   "source": [
    "array_5[condicion]"
   ]
  },
  {
   "cell_type": "markdown",
   "metadata": {},
   "source": [
    "\n",
    "Crea un array 1D con 10 valores entre 0 y 1. Redondea los decimales a 2. Obtén los elementos cuyo valor es mayor que 0.5. ¿En que posición/es están esos elementos?"
   ]
  },
  {
   "cell_type": "code",
   "execution_count": 51,
   "metadata": {},
   "outputs": [],
   "source": [
    "array_6 = np.random.rand(10)"
   ]
  },
  {
   "cell_type": "code",
   "execution_count": 53,
   "metadata": {},
   "outputs": [],
   "source": [
    "array_6 = (np.random.rand(10)).round(2)"
   ]
  },
  {
   "cell_type": "code",
   "execution_count": 54,
   "metadata": {},
   "outputs": [
    {
     "data": {
      "text/plain": [
       "array([0.22, 0.22, 0.9 , 0.73, 0.78, 0.96, 0.44, 0.63, 0.37, 0.97])"
      ]
     },
     "execution_count": 54,
     "metadata": {},
     "output_type": "execute_result"
    }
   ],
   "source": [
    "array_6"
   ]
  },
  {
   "cell_type": "code",
   "execution_count": 55,
   "metadata": {},
   "outputs": [],
   "source": [
    "condicion_2 = array_6 > 0.5"
   ]
  },
  {
   "cell_type": "code",
   "execution_count": 58,
   "metadata": {},
   "outputs": [
    {
     "data": {
      "text/plain": [
       "(array([2, 3, 4, 5, 7, 9]),)"
      ]
     },
     "execution_count": 58,
     "metadata": {},
     "output_type": "execute_result"
    }
   ],
   "source": [
    "np.where(condicion_2)"
   ]
  },
  {
   "cell_type": "markdown",
   "metadata": {},
   "source": [
    "Crea un array 1D con 40 valores del 1 al 100 (ambos incluidos). Obtén los elementos que son divisibles por 3 y por 4."
   ]
  },
  {
   "cell_type": "code",
   "execution_count": 59,
   "metadata": {},
   "outputs": [],
   "source": [
    "array_7 = np.random.randint(1,101, 40)"
   ]
  },
  {
   "cell_type": "code",
   "execution_count": 61,
   "metadata": {},
   "outputs": [],
   "source": [
    "condicion_3= ((array_7 % 3 ==0) & (array_7 % 4 == 0))\n",
    "\n"
   ]
  },
  {
   "cell_type": "markdown",
   "metadata": {},
   "source": [
    "Ejercicios con reshape:\n",
    "\n",
    "Crea un array 3D de forma (2, 3, 4) con valores aleatorios entre 1 y 100 (ambos inclusive). Utiliza reshape para convertirlo en un array 2D. Deberás pensar en la forma que es correcta para hacer este cambio."
   ]
  },
  {
   "cell_type": "code",
   "execution_count": 64,
   "metadata": {},
   "outputs": [],
   "source": [
    "array_8= np.random.randint(1,101, (2,3,4))"
   ]
  },
  {
   "cell_type": "code",
   "execution_count": 65,
   "metadata": {},
   "outputs": [
    {
     "data": {
      "text/plain": [
       "array([[[22, 76, 13, 50],\n",
       "        [25, 70, 60,  4],\n",
       "        [84, 47, 52,  4]],\n",
       "\n",
       "       [[38, 65, 23, 90],\n",
       "        [27, 87, 30, 82],\n",
       "        [ 2, 86,  9, 84]]])"
      ]
     },
     "execution_count": 65,
     "metadata": {},
     "output_type": "execute_result"
    }
   ],
   "source": [
    "array_8"
   ]
  },
  {
   "cell_type": "code",
   "execution_count": 72,
   "metadata": {},
   "outputs": [],
   "source": [
    "array_modificada= np.reshape(array_8, (6,4))\n"
   ]
  },
  {
   "cell_type": "markdown",
   "metadata": {},
   "source": [
    "Crea un array 3D de forma (3, 4, 5) con valores enteros del 1 al 60 (sin incluir). Utiliza reshape para convertirlo en un array 2D."
   ]
  },
  {
   "cell_type": "code",
   "execution_count": 74,
   "metadata": {},
   "outputs": [],
   "source": [
    "array_9 = np.random.randint(1,60, (3,4,5))"
   ]
  },
  {
   "cell_type": "code",
   "execution_count": 75,
   "metadata": {},
   "outputs": [
    {
     "data": {
      "text/plain": [
       "array([[[20, 59, 50, 43, 36],\n",
       "        [30, 34,  2, 21, 36],\n",
       "        [ 2, 11, 15, 46, 37],\n",
       "        [51, 48, 43, 43, 27]],\n",
       "\n",
       "       [[26, 29, 16, 38,  5],\n",
       "        [33, 59, 47, 59, 20],\n",
       "        [11, 40, 15, 59, 16],\n",
       "        [33,  5, 16,  2, 48]],\n",
       "\n",
       "       [[16,  9,  8, 21, 31],\n",
       "        [15, 38, 36, 46, 37],\n",
       "        [39, 39, 37,  4, 10],\n",
       "        [43, 54, 25, 57, 34]]])"
      ]
     },
     "execution_count": 75,
     "metadata": {},
     "output_type": "execute_result"
    }
   ],
   "source": [
    "array_9"
   ]
  },
  {
   "cell_type": "code",
   "execution_count": 76,
   "metadata": {},
   "outputs": [],
   "source": [
    "array_modificada_2 = np.reshape(array_9, (10,6))"
   ]
  },
  {
   "cell_type": "code",
   "execution_count": 77,
   "metadata": {},
   "outputs": [
    {
     "data": {
      "text/plain": [
       "array([[20, 59, 50, 43, 36, 30],\n",
       "       [34,  2, 21, 36,  2, 11],\n",
       "       [15, 46, 37, 51, 48, 43],\n",
       "       [43, 27, 26, 29, 16, 38],\n",
       "       [ 5, 33, 59, 47, 59, 20],\n",
       "       [11, 40, 15, 59, 16, 33],\n",
       "       [ 5, 16,  2, 48, 16,  9],\n",
       "       [ 8, 21, 31, 15, 38, 36],\n",
       "       [46, 37, 39, 39, 37,  4],\n",
       "       [10, 43, 54, 25, 57, 34]])"
      ]
     },
     "execution_count": 77,
     "metadata": {},
     "output_type": "execute_result"
    }
   ],
   "source": [
    "array_modificada_2"
   ]
  },
  {
   "cell_type": "code",
   "execution_count": 82,
   "metadata": {},
   "outputs": [],
   "source": [
    "array_modificada_2 = np.reshape(array_9, (4,15))"
   ]
  },
  {
   "cell_type": "code",
   "execution_count": 83,
   "metadata": {},
   "outputs": [
    {
     "data": {
      "text/plain": [
       "array([[20, 59, 50, 43, 36, 30, 34,  2, 21, 36,  2, 11, 15, 46, 37],\n",
       "       [51, 48, 43, 43, 27, 26, 29, 16, 38,  5, 33, 59, 47, 59, 20],\n",
       "       [11, 40, 15, 59, 16, 33,  5, 16,  2, 48, 16,  9,  8, 21, 31],\n",
       "       [15, 38, 36, 46, 37, 39, 39, 37,  4, 10, 43, 54, 25, 57, 34]])"
      ]
     },
     "execution_count": 83,
     "metadata": {},
     "output_type": "execute_result"
    }
   ],
   "source": [
    "array_modificada_2"
   ]
  },
  {
   "cell_type": "markdown",
   "metadata": {},
   "source": [
    "Crea un array 3D de forma (4, 3, 2) con valores aleatorios entre 0 y 1. Utiliza reshape para convertirlo en un array 2D."
   ]
  },
  {
   "cell_type": "code",
   "execution_count": 85,
   "metadata": {},
   "outputs": [],
   "source": [
    "array_10 = np.random.rand(4,3,2)"
   ]
  },
  {
   "cell_type": "code",
   "execution_count": 87,
   "metadata": {},
   "outputs": [],
   "source": [
    "array_2d = np.reshape(array_10, (6,4))"
   ]
  },
  {
   "cell_type": "code",
   "execution_count": 88,
   "metadata": {},
   "outputs": [
    {
     "data": {
      "text/plain": [
       "array([[0.17976693, 0.00870151, 0.20948356, 0.57847263],\n",
       "       [0.28001423, 0.43774586, 0.59611927, 0.30476006],\n",
       "       [0.12079216, 0.12284993, 0.87264118, 0.09400857],\n",
       "       [0.45967163, 0.0960861 , 0.00588169, 0.45336033],\n",
       "       [0.93557947, 0.50889393, 0.42230802, 0.21029677],\n",
       "       [0.55399533, 0.53175118, 0.9433145 , 0.43714609]])"
      ]
     },
     "execution_count": 88,
     "metadata": {},
     "output_type": "execute_result"
    }
   ],
   "source": [
    "array_2d"
   ]
  },
  {
   "cell_type": "markdown",
   "metadata": {},
   "source": [
    "Ejercicios con transpose:\n",
    "\n",
    "Utiliza el array 3D del ejercicio 2 de reshape. Utiliza transpose para permutar los ejes y obtener un nuevo array con forma (5, 4, 3)."
   ]
  },
  {
   "cell_type": "code",
   "execution_count": 3,
   "metadata": {},
   "outputs": [],
   "source": [
    "array_11 = np.random.randint(1,60, (3,4,5))"
   ]
  },
  {
   "cell_type": "code",
   "execution_count": 9,
   "metadata": {},
   "outputs": [],
   "source": [
    "array_12 = np.transpose(array_11, (2,1,0))\n",
    "#Nos da el mismo resultado que indicando parametros\n",
    "array_12 = np.transpose(array_11)\n"
   ]
  },
  {
   "cell_type": "markdown",
   "metadata": {},
   "source": [
    "5.Utiliza el array 3D del ejercicio 3 de reshape. Utiliza transpose para cambiar el orden de los ejes y obtener un nuevo array con forma (3, 2, 4)."
   ]
  },
  {
   "cell_type": "code",
   "execution_count": 11,
   "metadata": {},
   "outputs": [],
   "source": [
    "array_10 = np.random.rand(4,3,2)"
   ]
  },
  {
   "cell_type": "code",
   "execution_count": 15,
   "metadata": {},
   "outputs": [],
   "source": [
    "array_13 = np.transpose(array_10, (1,2,0))"
   ]
  },
  {
   "cell_type": "markdown",
   "metadata": {},
   "source": [
    "Preguntas teóricas:\n",
    "\n",
    "¿Qué diferencia existe entre el reshape y el transpose?\n",
    "\n",
    "La diferencia es que en el reshape podemos elegir la estructura del array, siempre y cuando se respeta la cantidad de elementos que tenemos en el array. Mientras que en transpose podemos intercambiar los valores de cada parametro pero no modificar esos valores.\n",
    "\n",
    "\n",
    "¿Y entre el transpose y el swapaxes?\n",
    "\n",
    "En el transpose se puede intercambiar los ejes entre si, mientras que en el swapaxes solamente podemos intercambiar dos de ellos.\n"
   ]
  },
  {
   "cell_type": "markdown",
   "metadata": {},
   "source": [
    "Funciones Aritméticas y Estadísticas:\n",
    "\n",
    "\n",
    "Crea un array de tres 3D con elementos entre el 0 y 1 de forma (2, 3, 5) cuyos valores solo tengan 1 decimal."
   ]
  },
  {
   "cell_type": "code",
   "execution_count": 18,
   "metadata": {},
   "outputs": [],
   "source": [
    "array_14 = (np.random.rand(2,3,5)).round(1)"
   ]
  },
  {
   "cell_type": "code",
   "execution_count": 19,
   "metadata": {},
   "outputs": [
    {
     "data": {
      "text/plain": [
       "array([[[0.7, 0.8, 0.9, 0. , 0.5],\n",
       "        [0.9, 0.8, 0.2, 0.1, 0.4],\n",
       "        [0.9, 0.2, 0.4, 0.5, 0.5]],\n",
       "\n",
       "       [[0.7, 0.2, 0.4, 0.7, 0.1],\n",
       "        [0.8, 0. , 0.9, 0.8, 0.6],\n",
       "        [0.1, 0.4, 0.7, 0.1, 0. ]]])"
      ]
     },
     "execution_count": 19,
     "metadata": {},
     "output_type": "execute_result"
    }
   ],
   "source": [
    "array_14"
   ]
  },
  {
   "cell_type": "markdown",
   "metadata": {},
   "source": [
    "2.Crea un array vacío con la misma forma y dimensiones que el array creado anteriormente. Vamos a reemplazar los valores de la matriz vacía que nos acabamos de crear pero basándonos en los valores del primer array bajo las siguientes condiciones:\n",
    "\n",
    "\n",
    "-Si el valor del array es igual que la media, se reemplaza por \"A\".\n",
    "\n",
    "-Si el valor del array es mayor que la media, se reemplaza por \"B\".\n",
    "\n",
    "-Si el valor del array es menor que la media, se reemplaza por \"C\".\n",
    "\n",
    "-Si el valor es igual que el máximo, se reemplaza por \"D\".\n",
    "\n",
    "-Si el valor es igual que el mínimo, se reemplaza por \"E\"."
   ]
  },
  {
   "cell_type": "code",
   "execution_count": 20,
   "metadata": {},
   "outputs": [],
   "source": [
    "array_15 = np.empty((2,3,5))"
   ]
  },
  {
   "cell_type": "code",
   "execution_count": 49,
   "metadata": {},
   "outputs": [
    {
     "data": {
      "text/plain": [
       "array([[[0.7, 0.8, 0.9, 0. , 0.5],\n",
       "        [0.9, 0.8, 0.2, 0.1, 0.4],\n",
       "        [0.9, 0.2, 0.4, 0.5, 0.5]],\n",
       "\n",
       "       [[0.7, 0.2, 0.4, 0.7, 0.1],\n",
       "        [0.8, 0. , 0.9, 0.8, 0.6],\n",
       "        [0.1, 0.4, 0.7, 0.1, 0. ]]])"
      ]
     },
     "execution_count": 49,
     "metadata": {},
     "output_type": "execute_result"
    }
   ],
   "source": [
    "array_15 "
   ]
  },
  {
   "cell_type": "code",
   "execution_count": 26,
   "metadata": {},
   "outputs": [],
   "source": [
    "media = np.mean(array_14)"
   ]
  },
  {
   "cell_type": "code",
   "execution_count": 30,
   "metadata": {},
   "outputs": [
    {
     "data": {
      "text/plain": [
       "0.5"
      ]
     },
     "execution_count": 30,
     "metadata": {},
     "output_type": "execute_result"
    }
   ],
   "source": [
    "media.round(1)"
   ]
  },
  {
   "cell_type": "code",
   "execution_count": 52,
   "metadata": {},
   "outputs": [],
   "source": [
    "array_15= np.where(array_14 == media, 'A', array_15)\n",
    "array_15= np.where(array_14 > media, 'B', array_15)\n",
    "array_15= np.where(array_14 < media, 'C', array_15)\n"
   ]
  },
  {
   "cell_type": "code",
   "execution_count": 53,
   "metadata": {},
   "outputs": [
    {
     "data": {
      "text/plain": [
       "array([[['B', 'B', 'B', 'C', 'B'],\n",
       "        ['B', 'B', 'C', 'C', 'C'],\n",
       "        ['B', 'C', 'C', 'B', 'B']],\n",
       "\n",
       "       [['B', 'C', 'C', 'B', 'C'],\n",
       "        ['B', 'C', 'B', 'B', 'B'],\n",
       "        ['C', 'C', 'B', 'C', 'C']]], dtype='<U32')"
      ]
     },
     "execution_count": 53,
     "metadata": {},
     "output_type": "execute_result"
    }
   ],
   "source": [
    "array_15"
   ]
  },
  {
   "cell_type": "code",
   "execution_count": 54,
   "metadata": {},
   "outputs": [],
   "source": [
    "maximo = np.max(array_14)"
   ]
  },
  {
   "cell_type": "code",
   "execution_count": 55,
   "metadata": {},
   "outputs": [
    {
     "data": {
      "text/plain": [
       "0.9"
      ]
     },
     "execution_count": 55,
     "metadata": {},
     "output_type": "execute_result"
    }
   ],
   "source": [
    "maximo"
   ]
  },
  {
   "cell_type": "code",
   "execution_count": 56,
   "metadata": {},
   "outputs": [],
   "source": [
    "minimo = np.min(array_14)"
   ]
  },
  {
   "cell_type": "code",
   "execution_count": 57,
   "metadata": {},
   "outputs": [
    {
     "data": {
      "text/plain": [
       "0.0"
      ]
     },
     "execution_count": 57,
     "metadata": {},
     "output_type": "execute_result"
    }
   ],
   "source": [
    "minimo "
   ]
  },
  {
   "cell_type": "code",
   "execution_count": 58,
   "metadata": {},
   "outputs": [],
   "source": [
    "array_15 = np.where(array_14 == maximo, 'D', array_15)"
   ]
  },
  {
   "cell_type": "code",
   "execution_count": 59,
   "metadata": {},
   "outputs": [
    {
     "data": {
      "text/plain": [
       "array([[['B', 'B', 'D', 'C', 'B'],\n",
       "        ['D', 'B', 'C', 'C', 'C'],\n",
       "        ['D', 'C', 'C', 'B', 'B']],\n",
       "\n",
       "       [['B', 'C', 'C', 'B', 'C'],\n",
       "        ['B', 'C', 'D', 'B', 'B'],\n",
       "        ['C', 'C', 'B', 'C', 'C']]], dtype='<U32')"
      ]
     },
     "execution_count": 59,
     "metadata": {},
     "output_type": "execute_result"
    }
   ],
   "source": [
    "array_15"
   ]
  },
  {
   "cell_type": "code",
   "execution_count": 60,
   "metadata": {},
   "outputs": [],
   "source": [
    "array_15 = np.where(array_14 == minimo, 'E', array_15)"
   ]
  },
  {
   "cell_type": "code",
   "execution_count": 61,
   "metadata": {},
   "outputs": [
    {
     "data": {
      "text/plain": [
       "array([[['B', 'B', 'D', 'E', 'B'],\n",
       "        ['D', 'B', 'C', 'C', 'C'],\n",
       "        ['D', 'C', 'C', 'B', 'B']],\n",
       "\n",
       "       [['B', 'C', 'C', 'B', 'C'],\n",
       "        ['B', 'E', 'D', 'B', 'B'],\n",
       "        ['C', 'C', 'B', 'C', 'E']]], dtype='<U32')"
      ]
     },
     "execution_count": 61,
     "metadata": {},
     "output_type": "execute_result"
    }
   ],
   "source": [
    "array_15"
   ]
  },
  {
   "cell_type": "markdown",
   "metadata": {},
   "source": [
    "8.BONUS: Crea un array 3D de forma (2, 3, 5) y 50 elementos con números enteros entre 0 y 100 (ambos incluidos). Reemplaza los elementos en posiciones múltiplos de 3 por 0."
   ]
  },
  {
   "cell_type": "code",
   "execution_count": 63,
   "metadata": {},
   "outputs": [],
   "source": [
    "array_bonus = np.random.randint(0,101, (2,3,5))"
   ]
  },
  {
   "cell_type": "code",
   "execution_count": 64,
   "metadata": {},
   "outputs": [
    {
     "data": {
      "text/plain": [
       "array([[[65, 84, 25, 80, 61],\n",
       "        [26, 77, 63, 22, 85],\n",
       "        [26, 67, 72, 41, 55]],\n",
       "\n",
       "       [[ 8, 10, 54, 67, 48],\n",
       "        [18, 77, 97, 63, 21],\n",
       "        [ 4, 76, 12, 57, 29]]])"
      ]
     },
     "execution_count": 64,
     "metadata": {},
     "output_type": "execute_result"
    }
   ],
   "source": [
    "array_bonus"
   ]
  },
  {
   "cell_type": "code",
   "execution_count": 65,
   "metadata": {},
   "outputs": [],
   "source": [
    "condicion_bonus = (array_bonus % 3==0)"
   ]
  },
  {
   "cell_type": "code",
   "execution_count": 66,
   "metadata": {},
   "outputs": [
    {
     "data": {
      "text/plain": [
       "array([[[False,  True, False, False, False],\n",
       "        [False, False,  True, False, False],\n",
       "        [False, False,  True, False, False]],\n",
       "\n",
       "       [[False, False,  True, False,  True],\n",
       "        [ True, False, False,  True,  True],\n",
       "        [False, False,  True,  True, False]]])"
      ]
     },
     "execution_count": 66,
     "metadata": {},
     "output_type": "execute_result"
    }
   ],
   "source": [
    "condicion_bonus "
   ]
  },
  {
   "cell_type": "code",
   "execution_count": 67,
   "metadata": {},
   "outputs": [],
   "source": [
    "array_bonus = np.where(condicion_bonus, 0, array_bonus)"
   ]
  },
  {
   "cell_type": "code",
   "execution_count": 68,
   "metadata": {},
   "outputs": [
    {
     "data": {
      "text/plain": [
       "array([[[65,  0, 25, 80, 61],\n",
       "        [26, 77,  0, 22, 85],\n",
       "        [26, 67,  0, 41, 55]],\n",
       "\n",
       "       [[ 8, 10,  0, 67,  0],\n",
       "        [ 0, 77, 97,  0,  0],\n",
       "        [ 4, 76,  0,  0, 29]]])"
      ]
     },
     "execution_count": 68,
     "metadata": {},
     "output_type": "execute_result"
    }
   ],
   "source": [
    "array_bonus "
   ]
  }
 ],
 "metadata": {
  "kernelspec": {
   "display_name": "base",
   "language": "python",
   "name": "python3"
  },
  "language_info": {
   "codemirror_mode": {
    "name": "ipython",
    "version": 3
   },
   "file_extension": ".py",
   "mimetype": "text/x-python",
   "name": "python",
   "nbconvert_exporter": "python",
   "pygments_lexer": "ipython3",
   "version": "3.9.7"
  },
  "orig_nbformat": 4
 },
 "nbformat": 4,
 "nbformat_minor": 2
}
